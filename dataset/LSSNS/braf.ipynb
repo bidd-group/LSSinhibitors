{
 "cells": [
  {
   "cell_type": "code",
   "execution_count": 64,
   "id": "54702b3f-fea2-4719-ac82-f6c248da8d64",
   "metadata": {},
   "outputs": [],
   "source": [
    "import pandas as pd\n",
    "from rdkit.Chem import AllChem\n",
    "from rdkit import Chem\n",
    "from rdkit.Chem.Scaffolds import MurckoScaffold, rdScaffoldNetwork\n",
    "from rdkit.Chem import rdFMCS \n",
    "from rdkit import DataStructs, Chem\n",
    "from scipy.spatial.distance import squareform, cdist, pdist\n",
    "from scipy.cluster.hierarchy import fcluster, linkage, dendrogram\n",
    "import matplotlib.pylab as plt\n",
    "import numpy as np\n",
    "import pandas as pd\n",
    "from rdkit.Chem.Scaffolds.MurckoScaffold import MurckoScaffoldSmilesFromSmiles\n",
    "import tmap\n",
    "from faerun import Faerun\n",
    "from tqdm import tqdm\n",
    "from glob import glob\n",
    "import os"
   ]
  },
  {
   "cell_type": "code",
   "execution_count": 68,
   "id": "0b1de7e4-19d1-4e13-a4bf-b80f3e9aa534",
   "metadata": {},
   "outputs": [],
   "source": [
    "from matplotlib.colors import ListedColormap\n",
    "import seaborn as sns\n",
    "\n",
    "color = sns.color_palette(\"jet_r\", 100)\n",
    "custom_cmap = ListedColormap(\n",
    "    color[5:-5],\n",
    "    name=\"custom\",\n",
    ")"
   ]
  },
  {
   "cell_type": "code",
   "execution_count": null,
   "id": "6ceac256-ea2f-4c5a-bbbd-af81a4232df6",
   "metadata": {},
   "outputs": [],
   "source": []
  },
  {
   "cell_type": "code",
   "execution_count": null,
   "id": "306a606d-5e85-4aea-80c9-a7541cce22ad",
   "metadata": {},
   "outputs": [],
   "source": []
  },
  {
   "cell_type": "code",
   "execution_count": null,
   "id": "793ff76d-736f-4b88-bd39-a6722cf49070",
   "metadata": {},
   "outputs": [],
   "source": []
  },
  {
   "cell_type": "code",
   "execution_count": 71,
   "id": "acb89cb9-22da-4272-ae9c-9aa2ada39d22",
   "metadata": {},
   "outputs": [],
   "source": [
    "def _calc_ecfp4(smiles):\n",
    "    ecfp4 = AllChem.GetMorganFingerprint(Chem.MolFromSmiles(smiles), radius = 2)    \n",
    "    return ecfp4\n",
    "\n",
    "def pairwise_dist_tanimoto(smiles_list):    \n",
    "    MorganFP_list = [_calc_ecfp4(i) for i in smiles_list]\n",
    "    TanimotoDist =[]   \n",
    "    for i, fp1 in enumerate(MorganFP_list):\n",
    "        for fp2 in MorganFP_list[i+1:]:\n",
    "            s = DataStructs.TanimotoSimilarity(fp1,fp2)\n",
    "            #Available similarity metrics include Tanimoto, Dice, \n",
    "            # Cosine, Sokal, Russel, Kulczynski, McConnaughey, and Tversky\n",
    "            d = 1. - s #distance\n",
    "            TanimotoDist.append(d)\n",
    "    dist_matrix = squareform(TanimotoDist)\n",
    "\n",
    "    return dist_matrix\n",
    "\n",
    "def get_core_fw(smi):\n",
    "    mol = Chem.MolFromSmiles(smi)\n",
    "    core = MurckoScaffold.GetScaffoldForMol(mol)\n",
    "    fw = MurckoScaffold.MakeScaffoldGeneric(core)\n",
    "    return Chem.MolToSmiles(core), Chem.MolToSmiles(fw)\n",
    "\n",
    "def get_mcs(mols):\n",
    "    scd = rdFMCS.FindMCS(mols, completeRingsOnly=True,)\n",
    "    sc = Chem.MolFromSmarts(scd.smartsString)\n",
    "    ##get matched\n",
    "    # mol = mols[0]\n",
    "    # match_aidx = mol.GetSubstructMatches(sc)\n",
    "    # frag = AllChem.MolFragmentToSmarts(mol, match_aidx[0])\n",
    "    return sc\n",
    "\n",
    "def plot_tmap(df, task_name, save_dir):\n",
    "    \n",
    "    smiles_list = df.Smiles.to_list()\n",
    "\n",
    "    dim = 2048\n",
    "    data_save_folder = save_dir\n",
    "    task_name = task_name\n",
    "\n",
    "    mols = [Chem.MolFromSmiles(s) for s in smiles_list]\n",
    "    ECFP4_fps = [AllChem.GetMorganFingerprintAsBitVect(x,2,dim) for x in tqdm(mols, ascii=True)]\n",
    "    ecfps = [tmap.VectorUchar(list(fp)) for fp in ECFP4_fps]\n",
    "    enc = tmap.Minhash(dim,seed = 42)\n",
    "    lf = tmap.LSHForest(dim)\n",
    "    lf.batch_add(enc.batch_from_binary_array(ecfps))\n",
    "    lf.index()\n",
    "\n",
    "    cfg = tmap.LayoutConfiguration()\n",
    "    cfg.k = 50\n",
    "    cfg.kc = 50\n",
    "    cfg.sl_scaling_min = 1.0\n",
    "    cfg.sl_scaling_max = 1.0\n",
    "    cfg.sl_repeats = 1\n",
    "    cfg.sl_extra_scaling_steps = 2\n",
    "    cfg.placer = tmap.Placer.Barycenter\n",
    "    cfg.merger = tmap.Merger.LocalBiconnected\n",
    "    cfg.merger_factor = 2.0\n",
    "    cfg.merger_adjustment = 0\n",
    "    cfg.fme_iterations = 100\n",
    "    cfg.sl_scaling_type = tmap.ScalingType.RelativeToDesiredLength\n",
    "    cfg.node_size = 1/2\n",
    "    cfg.mmm_repeats = 10\n",
    "    x, y, s, t, gp = tmap.layout_from_lsh_forest(lf, config = cfg)\n",
    "\n",
    "    #======================================================\n",
    "    c1 = df['pChEMBL Value'].round(2)\n",
    "    c = [c1] #具体的属性数据\n",
    "    series_title = ['pChEMBL Value'] ##具体的属性数据名称\n",
    "    categorical = [False]\n",
    "    cmap = [custom_cmap]\n",
    "    min_legend_label= [str(c1.min())]\n",
    "    max_legend_label= [str(c1.max())]\n",
    "\n",
    "    labels = (df.Smiles + \"__\" + df.index + \"__\" \n",
    "              + (df['Standard Value'].astype(str) + ' nM')).tolist() #显示smiles， 以及图片中的标签\n",
    "\n",
    "    point_scale = 20\n",
    "    legend_labels = [None]\n",
    "    #========================================================\n",
    "\n",
    "\n",
    "    faerun = Faerun(view=\"front\", clear_color='#111111',coords=False) #'#ffffff'\n",
    "    faerun.add_scatter(task_name, { \"x\": x, \"y\": y, \n",
    "                                  \"c\": c, \"labels\": labels},\n",
    "                       legend_labels = legend_labels,\n",
    "                       max_legend_label = max_legend_label,\n",
    "                       min_legend_label = min_legend_label,\n",
    "                       point_scale=point_scale,\n",
    "                       colormap = cmap,\n",
    "                       has_legend=True,\n",
    "                       categorical = categorical,\n",
    "                       series_title = series_title,\n",
    "                       shader = 'smoothCircle') #\"sphere\", #\n",
    "\n",
    "\n",
    "    faerun.add_tree(task_name + \"_tree\", {\"from\": s, \"to\": t}, point_helper=task_name,  color='#666666', ) #colors when no value\n",
    "\n",
    "    # Choose the \"smiles\" template to display structure on hover\n",
    "    faerun.plot(task_name+'.js', path = data_save_folder, template=\"smiles\", notebook_height=750)"
   ]
  },
  {
   "cell_type": "code",
   "execution_count": null,
   "id": "9aadfbea-035f-440e-8eb4-85f663943a81",
   "metadata": {},
   "outputs": [],
   "source": []
  },
  {
   "cell_type": "code",
   "execution_count": 72,
   "id": "bd5f02f0-40f3-4e91-bfe0-b27f20b7031b",
   "metadata": {},
   "outputs": [
    {
     "name": "stdout",
     "output_type": "stream",
     "text": [
      "BRAF\n"
     ]
    },
    {
     "name": "stderr",
     "output_type": "stream",
     "text": [
      "100%|##############################################################################| 128/128 [00:00<00:00, 38824.91it/s]\n"
     ]
    },
    {
     "data": {
      "text/html": [
       "\n",
       "        <iframe\n",
       "            width=\"100%\"\n",
       "            height=\"750\"\n",
       "            src=\"./info/braf.js.html\"\n",
       "            frameborder=\"0\"\n",
       "            allowfullscreen\n",
       "            \n",
       "        ></iframe>\n",
       "        "
      ],
      "text/plain": [
       "<IPython.lib.display.IFrame at 0x7f2045d726a0>"
      ]
     },
     "metadata": {},
     "output_type": "display_data"
    },
    {
     "data": {
      "text/html": [
       "<a href='./info/braf.js.html' target='_blank'>./info/braf.js.html</a><br>"
      ],
      "text/plain": [
       "/home/shenwanxiang/Research/MPCD/dataset/LSSNS/info/braf.js.html"
      ]
     },
     "metadata": {},
     "output_type": "display_data"
    },
    {
     "name": "stderr",
     "output_type": "stream",
     "text": [
      "/tmp/ipykernel_203237/1621294261.py:61: SettingWithCopyWarning: \n",
      "A value is trying to be set on a copy of a slice from a DataFrame.\n",
      "Try using .loc[row_indexer,col_indexer] = value instead\n",
      "\n",
      "See the caveats in the documentation: https://pandas.pydata.org/pandas-docs/stable/user_guide/indexing.html#returning-a-view-versus-a-copy\n",
      "  df1['dataset'] = name\n"
     ]
    }
   ],
   "source": [
    "save_dir = './info'\n",
    "csvs = ['./BRAF.csv']\n",
    "\n",
    "target_type_dict = {'mglur2': 'GPCR', \n",
    "'usp7':  'Protease',\n",
    "'rip2':  'Kinase',\n",
    "'pkci':  'Kinase',\n",
    "'phgdh':  'Other Enzyme',\n",
    "'rorg':  'Nuclear Receptor',\n",
    "'ido1':  'Other Enzyme',\n",
    "'klk5':  'Protease',\n",
    "'notum':  'Other Enzyme',\n",
    "'eaat3':  'Transporter',\n",
    "'plk1':  'Kinase',\n",
    "'rxfp1':  'GPCR',\n",
    "'ur2':  'GPCR',\n",
    "'braf':  'Kinase'}\n",
    "\n",
    "names = {}\n",
    "infos = []\n",
    "alldf = []\n",
    "for csv in csvs:\n",
    "    df = pd.read_csv(csv, index_col=0)\n",
    "    \n",
    "    csv_name = os.path.basename(csv).replace('.csv', '')\n",
    "    print(csv_name)\n",
    "    \n",
    "    name = csv_name.lower()\n",
    "    display_name = csv_name\n",
    "    url_name = os.path.basename(csv)\n",
    "    col_list = df.columns.tolist()\n",
    "    smiles_idx = col_list.index('Smiles') + 1\n",
    "    y_idx = col_list.index('pChEMBL Value') + 1\n",
    "    \n",
    "    # Format: name: [display_name, url_name, csv_name, smiles_idx, y_idx]\n",
    "    res = {name: [display_name, url_name, csv_name, smiles_idx, y_idx]}\n",
    "    names.update(res)\n",
    "    #print(name, len(df), len(df1))\n",
    "    #print(res)\n",
    "    \n",
    "    #dfs = df.Smiles.apply(get_core_fw).apply(pd.Series)\n",
    "    #scaffolds = df.Smiles.apply(MurckoScaffoldSmilesFromSmiles).value_counts()\n",
    "\n",
    "    dataset = name\n",
    "    target = df['Target Name'].unique().tolist()[0]\n",
    "    target_type = target_type_dict[dataset]\n",
    "    inhibitors = len(df)\n",
    "    reference = '; '.join(df['Document ChEMBL ID'].unique().tolist())\n",
    "\n",
    "    info = {'dataset': dataset, 'target':target, \n",
    "            'target_type':target_type, 'size':inhibitors,\n",
    "            'reference':reference}\n",
    "    infos.append(info)\n",
    "    \n",
    "    if not os.path.exists(save_dir):\n",
    "        os.makedirs(save_dir)\n",
    "        \n",
    "    plot_tmap(df, name, save_dir)\n",
    "    \n",
    "    df1 = df[['Standard Value', 'pChEMBL Value', 'Smiles']]\n",
    "    df1['dataset'] = name\n",
    "    alldf.append(df1)\n"
   ]
  },
  {
   "cell_type": "code",
   "execution_count": null,
   "id": "5025bd10-cfec-4be0-aa21-a70b46da4fba",
   "metadata": {},
   "outputs": [],
   "source": []
  },
  {
   "cell_type": "code",
   "execution_count": null,
   "id": "8560a6be-1b67-4805-b311-bae5042f4461",
   "metadata": {},
   "outputs": [],
   "source": []
  },
  {
   "cell_type": "code",
   "execution_count": null,
   "id": "e507d289-da24-4572-97c1-2c0228fddd08",
   "metadata": {},
   "outputs": [],
   "source": []
  },
  {
   "cell_type": "code",
   "execution_count": null,
   "id": "215b5f2c-5b5c-489f-ad3a-7ab42e246763",
   "metadata": {},
   "outputs": [],
   "source": []
  },
  {
   "cell_type": "code",
   "execution_count": null,
   "id": "605063cd-5aeb-4043-814a-f3fe89bdd579",
   "metadata": {},
   "outputs": [],
   "source": []
  },
  {
   "cell_type": "code",
   "execution_count": null,
   "id": "b88b7bec-4ca1-48ec-a630-5a4dfba2bf77",
   "metadata": {},
   "outputs": [],
   "source": []
  },
  {
   "cell_type": "code",
   "execution_count": null,
   "id": "ed34b14c-b6dc-425b-bb46-caf22c8abb39",
   "metadata": {},
   "outputs": [],
   "source": []
  },
  {
   "cell_type": "code",
   "execution_count": null,
   "id": "2f89142a-25bb-4999-9d72-cd78c2960cd1",
   "metadata": {},
   "outputs": [],
   "source": []
  },
  {
   "cell_type": "code",
   "execution_count": null,
   "id": "6cad441b-af21-404d-ba0d-e0d82a4f3b3a",
   "metadata": {},
   "outputs": [],
   "source": []
  },
  {
   "cell_type": "code",
   "execution_count": null,
   "id": "1e3e9097-941c-4651-9637-f98721526e57",
   "metadata": {},
   "outputs": [],
   "source": []
  },
  {
   "cell_type": "code",
   "execution_count": null,
   "id": "fbeeeb62-174d-4a00-8e00-80bda4ca743b",
   "metadata": {},
   "outputs": [],
   "source": []
  },
  {
   "cell_type": "code",
   "execution_count": null,
   "id": "bfc69885-4a9e-42bb-8327-b2171991d59e",
   "metadata": {},
   "outputs": [],
   "source": []
  }
 ],
 "metadata": {
  "kernelspec": {
   "display_name": "Python 3 (ipykernel)",
   "language": "python",
   "name": "python3"
  },
  "language_info": {
   "codemirror_mode": {
    "name": "ipython",
    "version": 3
   },
   "file_extension": ".py",
   "mimetype": "text/x-python",
   "name": "python",
   "nbconvert_exporter": "python",
   "pygments_lexer": "ipython3",
   "version": "3.9.7"
  }
 },
 "nbformat": 4,
 "nbformat_minor": 5
}
