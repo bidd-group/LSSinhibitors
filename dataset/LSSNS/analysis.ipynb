{
 "cells": [
  {
   "cell_type": "code",
   "execution_count": 1,
   "id": "42964008-4130-4c0f-9544-55f04ff5f9f2",
   "metadata": {},
   "outputs": [],
   "source": [
    "import pandas as pd\n",
    "from rdkit.Chem import AllChem\n",
    "from rdkit import Chem\n",
    "from rdkit.Chem.Scaffolds import MurckoScaffold, rdScaffoldNetwork\n",
    "from rdkit.Chem import rdFMCS \n",
    "from rdkit import DataStructs, Chem\n",
    "from scipy.spatial.distance import squareform, cdist, pdist\n",
    "from scipy.cluster.hierarchy import fcluster, linkage, dendrogram\n",
    "import matplotlib.pylab as plt\n",
    "import numpy as np\n",
    "import pandas as pd\n",
    "from rdkit.Chem.Scaffolds.MurckoScaffold import MurckoScaffoldSmilesFromSmiles\n",
    "import tmap\n",
    "from faerun import Faerun\n",
    "from tqdm import tqdm\n",
    "from glob import glob\n",
    "import os"
   ]
  },
  {
   "cell_type": "code",
   "execution_count": 2,
   "id": "188a9267-1672-4b69-8811-7b17cf0955d6",
   "metadata": {},
   "outputs": [],
   "source": [
    "def _calc_ecfp4(smiles):\n",
    "    ecfp4 = AllChem.GetMorganFingerprint(Chem.MolFromSmiles(smiles), radius = 2)    \n",
    "    return ecfp4\n",
    "\n",
    "def pairwise_dist_tanimoto(smiles_list):    \n",
    "    MorganFP_list = [_calc_ecfp4(i) for i in smiles_list]\n",
    "    TanimotoDist =[]   \n",
    "    for i, fp1 in enumerate(MorganFP_list):\n",
    "        for fp2 in MorganFP_list[i+1:]:\n",
    "            s = DataStructs.TanimotoSimilarity(fp1,fp2)\n",
    "            #Available similarity metrics include Tanimoto, Dice, \n",
    "            # Cosine, Sokal, Russel, Kulczynski, McConnaughey, and Tversky\n",
    "            d = 1. - s #distance\n",
    "            TanimotoDist.append(d)\n",
    "    dist_matrix = squareform(TanimotoDist)\n",
    "\n",
    "    return dist_matrix\n",
    "\n",
    "def get_core_fw(smi):\n",
    "    mol = Chem.MolFromSmiles(smi)\n",
    "    core = MurckoScaffold.GetScaffoldForMol(mol)\n",
    "    fw = MurckoScaffold.MakeScaffoldGeneric(core)\n",
    "    return Chem.MolToSmiles(core), Chem.MolToSmiles(fw)\n",
    "\n",
    "def get_mcs(mols):\n",
    "    scd = rdFMCS.FindMCS(mols, completeRingsOnly=True,)\n",
    "    sc = Chem.MolFromSmarts(scd.smartsString)\n",
    "    ##get matched\n",
    "    # mol = mols[0]\n",
    "    # match_aidx = mol.GetSubstructMatches(sc)\n",
    "    # frag = AllChem.MolFragmentToSmarts(mol, match_aidx[0])\n",
    "    return sc\n",
    "\n",
    "def plot_tmap(df, task_name, save_dir):\n",
    "    \n",
    "    smiles_list = df.Smiles.to_list()\n",
    "\n",
    "    dim = 2048\n",
    "    data_save_folder = save_dir\n",
    "    task_name = task_name\n",
    "\n",
    "    mols = [Chem.MolFromSmiles(s) for s in smiles_list]\n",
    "    ECFP4_fps = [AllChem.GetMorganFingerprintAsBitVect(x,2,dim) for x in tqdm(mols, ascii=True)]\n",
    "    ecfps = [tmap.VectorUchar(list(fp)) for fp in ECFP4_fps]\n",
    "    enc = tmap.Minhash(dim,seed = 42)\n",
    "    lf = tmap.LSHForest(dim)\n",
    "    lf.batch_add(enc.batch_from_binary_array(ecfps))\n",
    "    lf.index()\n",
    "\n",
    "    cfg = tmap.LayoutConfiguration()\n",
    "    cfg.k = 50\n",
    "    cfg.kc = 50\n",
    "    cfg.sl_scaling_min = 1.0\n",
    "    cfg.sl_scaling_max = 1.0\n",
    "    cfg.sl_repeats = 1\n",
    "    cfg.sl_extra_scaling_steps = 2\n",
    "    cfg.placer = tmap.Placer.Barycenter\n",
    "    cfg.merger = tmap.Merger.LocalBiconnected\n",
    "    cfg.merger_factor = 2.0\n",
    "    cfg.merger_adjustment = 0\n",
    "    cfg.fme_iterations = 2000\n",
    "    cfg.sl_scaling_type = tmap.ScalingType.RelativeToDesiredLength\n",
    "    cfg.node_size = 1 / 2\n",
    "    cfg.mmm_repeats = 1\n",
    "    x, y, s, t, gp = tmap.layout_from_lsh_forest(lf, config = cfg)\n",
    "\n",
    "    #======================================================\n",
    "    c1 = df['pChEMBL Value'].round(3)\n",
    "    c = [c1] #具体的属性数据\n",
    "    series_title = ['pChEMBL Value'] ##具体的属性数据名称\n",
    "    categorical = [False]\n",
    "    cmap = ['jet']\n",
    "    min_legend_label= [str(c1.min())]\n",
    "    max_legend_label= [str(c1.max())]\n",
    "\n",
    "    labels = (df.Smiles + \"__\" + df.index + \"__\" \n",
    "              + (df['Standard Value'].astype(str) + ' nM')).tolist() #显示smiles， 以及图片中的标签\n",
    "\n",
    "    point_scale = 13\n",
    "    legend_labels = [None]\n",
    "    #========================================================\n",
    "\n",
    "\n",
    "    faerun = Faerun(view=\"front\", clear_color='#111111',coords=False) #'#ffffff'\n",
    "    faerun.add_scatter(task_name, { \"x\": x, \"y\": y, \n",
    "                                  \"c\": c, \"labels\": labels},\n",
    "                       legend_labels = legend_labels,\n",
    "                       max_legend_label = max_legend_label,\n",
    "                       min_legend_label = min_legend_label,\n",
    "                       point_scale=point_scale,\n",
    "                       colormap = cmap,\n",
    "                       has_legend=True,\n",
    "                       categorical = categorical,\n",
    "                       series_title = series_title,\n",
    "                       shader = 'smoothCircle') #\"sphere\", #\n",
    "\n",
    "\n",
    "    faerun.add_tree(task_name + \"_tree\", {\"from\": s, \"to\": t}, point_helper=task_name,  color='#666666', ) #colors when no value\n",
    "\n",
    "    # Choose the \"smiles\" template to display structure on hover\n",
    "    faerun.plot(task_name, path = data_save_folder, template=\"smiles\", notebook_height=750)"
   ]
  },
  {
   "cell_type": "code",
   "execution_count": 84,
   "id": "c2588a54-0ac2-4cf5-baa0-c14622d7b67c",
   "metadata": {},
   "outputs": [],
   "source": [
    "csvs = glob('./*.csv')\n",
    "target_type_dict = {'mglur2': 'GPCR', \n",
    "'usp7':  'Protease',\n",
    "'rip2':  'Kinase',\n",
    "'pkci':  'Kinase',\n",
    "'phgdh':  'Other Enzyme',\n",
    "'rorg':  'Nuclear Receptor',\n",
    "'ido1':  'Other Enzyme',\n",
    "'klk5':  'Protease',\n",
    "'notum':  'Other Enzyme',\n",
    "'eaa3':  'Transporter',\n",
    "'plk1':  'Kinase',\n",
    "'rxfp1':  'GPCR',\n",
    "'ur2':  'GPCR',\n",
    "'braf':  'Kinase'}"
   ]
  },
  {
   "cell_type": "code",
   "execution_count": null,
   "id": "aba1897a-54e5-4c97-a9b7-4dd504934640",
   "metadata": {},
   "outputs": [],
   "source": []
  },
  {
   "cell_type": "code",
   "execution_count": null,
   "id": "396756b1-e36f-4772-b5fe-a5379ccc4069",
   "metadata": {},
   "outputs": [],
   "source": []
  },
  {
   "cell_type": "code",
   "execution_count": 85,
   "id": "78b07443-0b30-44a3-bd46-d3322d98388c",
   "metadata": {
    "collapsed": true,
    "jupyter": {
     "outputs_hidden": true
    },
    "tags": []
   },
   "outputs": [
    {
     "name": "stdout",
     "output_type": "stream",
     "text": [
      "UR2\n"
     ]
    },
    {
     "name": "stderr",
     "output_type": "stream",
     "text": [
      "100%|################################################################################| 60/60 [00:00<00:00, 41438.87it/s]\n"
     ]
    },
    {
     "data": {
      "text/html": [
       "\n",
       "        <iframe\n",
       "            width=\"100%\"\n",
       "            height=\"750\"\n",
       "            src=\"./info/ur2.html\"\n",
       "            frameborder=\"0\"\n",
       "            allowfullscreen\n",
       "            \n",
       "        ></iframe>\n",
       "        "
      ],
      "text/plain": [
       "<IPython.lib.display.IFrame at 0x7fa50c71ed00>"
      ]
     },
     "metadata": {},
     "output_type": "display_data"
    },
    {
     "data": {
      "text/html": [
       "<a href='./info/ur2.html' target='_blank'>./info/ur2.html</a><br>"
      ],
      "text/plain": [
       "/home/shenwanxiang/Research/LSSinhibitors/dataset/LSSNS/info/ur2.html"
      ]
     },
     "metadata": {},
     "output_type": "display_data"
    },
    {
     "name": "stderr",
     "output_type": "stream",
     "text": [
      "/tmp/ipykernel_1565438/1963124820.py:44: SettingWithCopyWarning: \n",
      "A value is trying to be set on a copy of a slice from a DataFrame.\n",
      "Try using .loc[row_indexer,col_indexer] = value instead\n",
      "\n",
      "See the caveats in the documentation: https://pandas.pydata.org/pandas-docs/stable/user_guide/indexing.html#returning-a-view-versus-a-copy\n",
      "  df1['dataset'] = name\n"
     ]
    },
    {
     "name": "stdout",
     "output_type": "stream",
     "text": [
      "PLK1\n"
     ]
    },
    {
     "name": "stderr",
     "output_type": "stream",
     "text": [
      "100%|################################################################################| 73/73 [00:00<00:00, 28157.46it/s]\n"
     ]
    },
    {
     "data": {
      "text/html": [
       "\n",
       "        <iframe\n",
       "            width=\"100%\"\n",
       "            height=\"750\"\n",
       "            src=\"./info/plk1.html\"\n",
       "            frameborder=\"0\"\n",
       "            allowfullscreen\n",
       "            \n",
       "        ></iframe>\n",
       "        "
      ],
      "text/plain": [
       "<IPython.lib.display.IFrame at 0x7fa50e1952e0>"
      ]
     },
     "metadata": {},
     "output_type": "display_data"
    },
    {
     "data": {
      "text/html": [
       "<a href='./info/plk1.html' target='_blank'>./info/plk1.html</a><br>"
      ],
      "text/plain": [
       "/home/shenwanxiang/Research/LSSinhibitors/dataset/LSSNS/info/plk1.html"
      ]
     },
     "metadata": {},
     "output_type": "display_data"
    },
    {
     "name": "stderr",
     "output_type": "stream",
     "text": [
      "/tmp/ipykernel_1565438/1963124820.py:44: SettingWithCopyWarning: \n",
      "A value is trying to be set on a copy of a slice from a DataFrame.\n",
      "Try using .loc[row_indexer,col_indexer] = value instead\n",
      "\n",
      "See the caveats in the documentation: https://pandas.pydata.org/pandas-docs/stable/user_guide/indexing.html#returning-a-view-versus-a-copy\n",
      "  df1['dataset'] = name\n"
     ]
    },
    {
     "name": "stdout",
     "output_type": "stream",
     "text": [
      "RIP2\n"
     ]
    },
    {
     "name": "stderr",
     "output_type": "stream",
     "text": [
      "100%|################################################################################| 46/46 [00:00<00:00, 45015.86it/s]\n"
     ]
    },
    {
     "data": {
      "text/html": [
       "\n",
       "        <iframe\n",
       "            width=\"100%\"\n",
       "            height=\"750\"\n",
       "            src=\"./info/rip2.html\"\n",
       "            frameborder=\"0\"\n",
       "            allowfullscreen\n",
       "            \n",
       "        ></iframe>\n",
       "        "
      ],
      "text/plain": [
       "<IPython.lib.display.IFrame at 0x7fa50d807970>"
      ]
     },
     "metadata": {},
     "output_type": "display_data"
    },
    {
     "data": {
      "text/html": [
       "<a href='./info/rip2.html' target='_blank'>./info/rip2.html</a><br>"
      ],
      "text/plain": [
       "/home/shenwanxiang/Research/LSSinhibitors/dataset/LSSNS/info/rip2.html"
      ]
     },
     "metadata": {},
     "output_type": "display_data"
    },
    {
     "name": "stderr",
     "output_type": "stream",
     "text": [
      "/tmp/ipykernel_1565438/1963124820.py:44: SettingWithCopyWarning: \n",
      "A value is trying to be set on a copy of a slice from a DataFrame.\n",
      "Try using .loc[row_indexer,col_indexer] = value instead\n",
      "\n",
      "See the caveats in the documentation: https://pandas.pydata.org/pandas-docs/stable/user_guide/indexing.html#returning-a-view-versus-a-copy\n",
      "  df1['dataset'] = name\n"
     ]
    },
    {
     "name": "stdout",
     "output_type": "stream",
     "text": [
      "RORg\n"
     ]
    },
    {
     "name": "stderr",
     "output_type": "stream",
     "text": [
      "100%|################################################################################| 68/68 [00:00<00:00, 24992.35it/s]\n"
     ]
    },
    {
     "data": {
      "text/html": [
       "\n",
       "        <iframe\n",
       "            width=\"100%\"\n",
       "            height=\"750\"\n",
       "            src=\"./info/rorg.html\"\n",
       "            frameborder=\"0\"\n",
       "            allowfullscreen\n",
       "            \n",
       "        ></iframe>\n",
       "        "
      ],
      "text/plain": [
       "<IPython.lib.display.IFrame at 0x7fa50cb56ac0>"
      ]
     },
     "metadata": {},
     "output_type": "display_data"
    },
    {
     "data": {
      "text/html": [
       "<a href='./info/rorg.html' target='_blank'>./info/rorg.html</a><br>"
      ],
      "text/plain": [
       "/home/shenwanxiang/Research/LSSinhibitors/dataset/LSSNS/info/rorg.html"
      ]
     },
     "metadata": {},
     "output_type": "display_data"
    },
    {
     "name": "stderr",
     "output_type": "stream",
     "text": [
      "/tmp/ipykernel_1565438/1963124820.py:44: SettingWithCopyWarning: \n",
      "A value is trying to be set on a copy of a slice from a DataFrame.\n",
      "Try using .loc[row_indexer,col_indexer] = value instead\n",
      "\n",
      "See the caveats in the documentation: https://pandas.pydata.org/pandas-docs/stable/user_guide/indexing.html#returning-a-view-versus-a-copy\n",
      "  df1['dataset'] = name\n"
     ]
    },
    {
     "name": "stdout",
     "output_type": "stream",
     "text": [
      "KLK5\n"
     ]
    },
    {
     "name": "stderr",
     "output_type": "stream",
     "text": [
      "100%|################################################################################| 65/65 [00:00<00:00, 49042.95it/s]\n"
     ]
    },
    {
     "data": {
      "text/html": [
       "\n",
       "        <iframe\n",
       "            width=\"100%\"\n",
       "            height=\"750\"\n",
       "            src=\"./info/klk5.html\"\n",
       "            frameborder=\"0\"\n",
       "            allowfullscreen\n",
       "            \n",
       "        ></iframe>\n",
       "        "
      ],
      "text/plain": [
       "<IPython.lib.display.IFrame at 0x7fa50e774d30>"
      ]
     },
     "metadata": {},
     "output_type": "display_data"
    },
    {
     "data": {
      "text/html": [
       "<a href='./info/klk5.html' target='_blank'>./info/klk5.html</a><br>"
      ],
      "text/plain": [
       "/home/shenwanxiang/Research/LSSinhibitors/dataset/LSSNS/info/klk5.html"
      ]
     },
     "metadata": {},
     "output_type": "display_data"
    },
    {
     "name": "stderr",
     "output_type": "stream",
     "text": [
      "/tmp/ipykernel_1565438/1963124820.py:44: SettingWithCopyWarning: \n",
      "A value is trying to be set on a copy of a slice from a DataFrame.\n",
      "Try using .loc[row_indexer,col_indexer] = value instead\n",
      "\n",
      "See the caveats in the documentation: https://pandas.pydata.org/pandas-docs/stable/user_guide/indexing.html#returning-a-view-versus-a-copy\n",
      "  df1['dataset'] = name\n"
     ]
    },
    {
     "name": "stdout",
     "output_type": "stream",
     "text": [
      "BRAF\n"
     ]
    },
    {
     "name": "stderr",
     "output_type": "stream",
     "text": [
      "100%|##############################################################################| 128/128 [00:00<00:00, 42608.80it/s]\n"
     ]
    },
    {
     "data": {
      "text/html": [
       "\n",
       "        <iframe\n",
       "            width=\"100%\"\n",
       "            height=\"750\"\n",
       "            src=\"./info/braf.html\"\n",
       "            frameborder=\"0\"\n",
       "            allowfullscreen\n",
       "            \n",
       "        ></iframe>\n",
       "        "
      ],
      "text/plain": [
       "<IPython.lib.display.IFrame at 0x7fa50c881f10>"
      ]
     },
     "metadata": {},
     "output_type": "display_data"
    },
    {
     "data": {
      "text/html": [
       "<a href='./info/braf.html' target='_blank'>./info/braf.html</a><br>"
      ],
      "text/plain": [
       "/home/shenwanxiang/Research/LSSinhibitors/dataset/LSSNS/info/braf.html"
      ]
     },
     "metadata": {},
     "output_type": "display_data"
    },
    {
     "name": "stderr",
     "output_type": "stream",
     "text": [
      "/tmp/ipykernel_1565438/1963124820.py:44: SettingWithCopyWarning: \n",
      "A value is trying to be set on a copy of a slice from a DataFrame.\n",
      "Try using .loc[row_indexer,col_indexer] = value instead\n",
      "\n",
      "See the caveats in the documentation: https://pandas.pydata.org/pandas-docs/stable/user_guide/indexing.html#returning-a-view-versus-a-copy\n",
      "  df1['dataset'] = name\n"
     ]
    },
    {
     "name": "stdout",
     "output_type": "stream",
     "text": [
      "USP7\n"
     ]
    },
    {
     "name": "stderr",
     "output_type": "stream",
     "text": [
      "100%|################################################################################| 45/45 [00:00<00:00, 31866.23it/s]\n"
     ]
    },
    {
     "data": {
      "text/html": [
       "\n",
       "        <iframe\n",
       "            width=\"100%\"\n",
       "            height=\"750\"\n",
       "            src=\"./info/usp7.html\"\n",
       "            frameborder=\"0\"\n",
       "            allowfullscreen\n",
       "            \n",
       "        ></iframe>\n",
       "        "
      ],
      "text/plain": [
       "<IPython.lib.display.IFrame at 0x7fa50e79b9d0>"
      ]
     },
     "metadata": {},
     "output_type": "display_data"
    },
    {
     "data": {
      "text/html": [
       "<a href='./info/usp7.html' target='_blank'>./info/usp7.html</a><br>"
      ],
      "text/plain": [
       "/home/shenwanxiang/Research/LSSinhibitors/dataset/LSSNS/info/usp7.html"
      ]
     },
     "metadata": {},
     "output_type": "display_data"
    },
    {
     "name": "stderr",
     "output_type": "stream",
     "text": [
      "/tmp/ipykernel_1565438/1963124820.py:44: SettingWithCopyWarning: \n",
      "A value is trying to be set on a copy of a slice from a DataFrame.\n",
      "Try using .loc[row_indexer,col_indexer] = value instead\n",
      "\n",
      "See the caveats in the documentation: https://pandas.pydata.org/pandas-docs/stable/user_guide/indexing.html#returning-a-view-versus-a-copy\n",
      "  df1['dataset'] = name\n"
     ]
    },
    {
     "name": "stdout",
     "output_type": "stream",
     "text": [
      "PHGDH\n"
     ]
    },
    {
     "name": "stderr",
     "output_type": "stream",
     "text": [
      "100%|################################################################################| 51/51 [00:00<00:00, 43708.52it/s]\n"
     ]
    },
    {
     "data": {
      "text/html": [
       "\n",
       "        <iframe\n",
       "            width=\"100%\"\n",
       "            height=\"750\"\n",
       "            src=\"./info/phgdh.html\"\n",
       "            frameborder=\"0\"\n",
       "            allowfullscreen\n",
       "            \n",
       "        ></iframe>\n",
       "        "
      ],
      "text/plain": [
       "<IPython.lib.display.IFrame at 0x7fa50c89c430>"
      ]
     },
     "metadata": {},
     "output_type": "display_data"
    },
    {
     "data": {
      "text/html": [
       "<a href='./info/phgdh.html' target='_blank'>./info/phgdh.html</a><br>"
      ],
      "text/plain": [
       "/home/shenwanxiang/Research/LSSinhibitors/dataset/LSSNS/info/phgdh.html"
      ]
     },
     "metadata": {},
     "output_type": "display_data"
    },
    {
     "name": "stderr",
     "output_type": "stream",
     "text": [
      "/tmp/ipykernel_1565438/1963124820.py:44: SettingWithCopyWarning: \n",
      "A value is trying to be set on a copy of a slice from a DataFrame.\n",
      "Try using .loc[row_indexer,col_indexer] = value instead\n",
      "\n",
      "See the caveats in the documentation: https://pandas.pydata.org/pandas-docs/stable/user_guide/indexing.html#returning-a-view-versus-a-copy\n",
      "  df1['dataset'] = name\n"
     ]
    },
    {
     "name": "stdout",
     "output_type": "stream",
     "text": [
      "Notum\n"
     ]
    },
    {
     "name": "stderr",
     "output_type": "stream",
     "text": [
      "100%|##############################################################################| 128/128 [00:00<00:00, 67641.54it/s]\n"
     ]
    },
    {
     "data": {
      "text/html": [
       "\n",
       "        <iframe\n",
       "            width=\"100%\"\n",
       "            height=\"750\"\n",
       "            src=\"./info/notum.html\"\n",
       "            frameborder=\"0\"\n",
       "            allowfullscreen\n",
       "            \n",
       "        ></iframe>\n",
       "        "
      ],
      "text/plain": [
       "<IPython.lib.display.IFrame at 0x7fa50ccf5880>"
      ]
     },
     "metadata": {},
     "output_type": "display_data"
    },
    {
     "data": {
      "text/html": [
       "<a href='./info/notum.html' target='_blank'>./info/notum.html</a><br>"
      ],
      "text/plain": [
       "/home/shenwanxiang/Research/LSSinhibitors/dataset/LSSNS/info/notum.html"
      ]
     },
     "metadata": {},
     "output_type": "display_data"
    },
    {
     "name": "stderr",
     "output_type": "stream",
     "text": [
      "/tmp/ipykernel_1565438/1963124820.py:44: SettingWithCopyWarning: \n",
      "A value is trying to be set on a copy of a slice from a DataFrame.\n",
      "Try using .loc[row_indexer,col_indexer] = value instead\n",
      "\n",
      "See the caveats in the documentation: https://pandas.pydata.org/pandas-docs/stable/user_guide/indexing.html#returning-a-view-versus-a-copy\n",
      "  df1['dataset'] = name\n"
     ]
    },
    {
     "name": "stdout",
     "output_type": "stream",
     "text": [
      "RXFP1\n"
     ]
    },
    {
     "name": "stderr",
     "output_type": "stream",
     "text": [
      "100%|##############################################################################| 117/117 [00:00<00:00, 40102.44it/s]\n"
     ]
    },
    {
     "data": {
      "text/html": [
       "\n",
       "        <iframe\n",
       "            width=\"100%\"\n",
       "            height=\"750\"\n",
       "            src=\"./info/rxfp1.html\"\n",
       "            frameborder=\"0\"\n",
       "            allowfullscreen\n",
       "            \n",
       "        ></iframe>\n",
       "        "
      ],
      "text/plain": [
       "<IPython.lib.display.IFrame at 0x7fa50c5af9d0>"
      ]
     },
     "metadata": {},
     "output_type": "display_data"
    },
    {
     "data": {
      "text/html": [
       "<a href='./info/rxfp1.html' target='_blank'>./info/rxfp1.html</a><br>"
      ],
      "text/plain": [
       "/home/shenwanxiang/Research/LSSinhibitors/dataset/LSSNS/info/rxfp1.html"
      ]
     },
     "metadata": {},
     "output_type": "display_data"
    },
    {
     "name": "stderr",
     "output_type": "stream",
     "text": [
      "/tmp/ipykernel_1565438/1963124820.py:44: SettingWithCopyWarning: \n",
      "A value is trying to be set on a copy of a slice from a DataFrame.\n",
      "Try using .loc[row_indexer,col_indexer] = value instead\n",
      "\n",
      "See the caveats in the documentation: https://pandas.pydata.org/pandas-docs/stable/user_guide/indexing.html#returning-a-view-versus-a-copy\n",
      "  df1['dataset'] = name\n"
     ]
    },
    {
     "name": "stdout",
     "output_type": "stream",
     "text": [
      "mGluR2\n"
     ]
    },
    {
     "name": "stderr",
     "output_type": "stream",
     "text": [
      "100%|##############################################################################| 244/244 [00:00<00:00, 41118.98it/s]\n"
     ]
    },
    {
     "data": {
      "text/html": [
       "\n",
       "        <iframe\n",
       "            width=\"100%\"\n",
       "            height=\"750\"\n",
       "            src=\"./info/mglur2.html\"\n",
       "            frameborder=\"0\"\n",
       "            allowfullscreen\n",
       "            \n",
       "        ></iframe>\n",
       "        "
      ],
      "text/plain": [
       "<IPython.lib.display.IFrame at 0x7fa50d9c20d0>"
      ]
     },
     "metadata": {},
     "output_type": "display_data"
    },
    {
     "data": {
      "text/html": [
       "<a href='./info/mglur2.html' target='_blank'>./info/mglur2.html</a><br>"
      ],
      "text/plain": [
       "/home/shenwanxiang/Research/LSSinhibitors/dataset/LSSNS/info/mglur2.html"
      ]
     },
     "metadata": {},
     "output_type": "display_data"
    },
    {
     "name": "stderr",
     "output_type": "stream",
     "text": [
      "/tmp/ipykernel_1565438/1963124820.py:44: SettingWithCopyWarning: \n",
      "A value is trying to be set on a copy of a slice from a DataFrame.\n",
      "Try using .loc[row_indexer,col_indexer] = value instead\n",
      "\n",
      "See the caveats in the documentation: https://pandas.pydata.org/pandas-docs/stable/user_guide/indexing.html#returning-a-view-versus-a-copy\n",
      "  df1['dataset'] = name\n"
     ]
    },
    {
     "name": "stdout",
     "output_type": "stream",
     "text": [
      "PKCi\n"
     ]
    },
    {
     "name": "stderr",
     "output_type": "stream",
     "text": [
      "100%|################################################################################| 48/48 [00:00<00:00, 56473.10it/s]\n"
     ]
    },
    {
     "data": {
      "text/html": [
       "\n",
       "        <iframe\n",
       "            width=\"100%\"\n",
       "            height=\"750\"\n",
       "            src=\"./info/pkci.html\"\n",
       "            frameborder=\"0\"\n",
       "            allowfullscreen\n",
       "            \n",
       "        ></iframe>\n",
       "        "
      ],
      "text/plain": [
       "<IPython.lib.display.IFrame at 0x7fa50c8816d0>"
      ]
     },
     "metadata": {},
     "output_type": "display_data"
    },
    {
     "data": {
      "text/html": [
       "<a href='./info/pkci.html' target='_blank'>./info/pkci.html</a><br>"
      ],
      "text/plain": [
       "/home/shenwanxiang/Research/LSSinhibitors/dataset/LSSNS/info/pkci.html"
      ]
     },
     "metadata": {},
     "output_type": "display_data"
    },
    {
     "name": "stdout",
     "output_type": "stream",
     "text": [
      "EAAT3\n"
     ]
    },
    {
     "name": "stderr",
     "output_type": "stream",
     "text": [
      "/tmp/ipykernel_1565438/1963124820.py:44: SettingWithCopyWarning: \n",
      "A value is trying to be set on a copy of a slice from a DataFrame.\n",
      "Try using .loc[row_indexer,col_indexer] = value instead\n",
      "\n",
      "See the caveats in the documentation: https://pandas.pydata.org/pandas-docs/stable/user_guide/indexing.html#returning-a-view-versus-a-copy\n",
      "  df1['dataset'] = name\n"
     ]
    },
    {
     "ename": "KeyError",
     "evalue": "'eaat3'",
     "output_type": "error",
     "traceback": [
      "\u001b[0;31m---------------------------------------------------------------------------\u001b[0m",
      "\u001b[0;31mKeyError\u001b[0m                                  Traceback (most recent call last)",
      "Input \u001b[0;32mIn [85]\u001b[0m, in \u001b[0;36m<cell line: 5>\u001b[0;34m()\u001b[0m\n\u001b[1;32m     27\u001b[0m dataset \u001b[38;5;241m=\u001b[39m name\n\u001b[1;32m     28\u001b[0m target \u001b[38;5;241m=\u001b[39m df[\u001b[38;5;124m'\u001b[39m\u001b[38;5;124mTarget Name\u001b[39m\u001b[38;5;124m'\u001b[39m]\u001b[38;5;241m.\u001b[39munique()\u001b[38;5;241m.\u001b[39mtolist()[\u001b[38;5;241m0\u001b[39m]\n\u001b[0;32m---> 29\u001b[0m target_type \u001b[38;5;241m=\u001b[39m \u001b[43mtarget_type_dict\u001b[49m\u001b[43m[\u001b[49m\u001b[43mdataset\u001b[49m\u001b[43m]\u001b[49m\n\u001b[1;32m     30\u001b[0m inhibitors \u001b[38;5;241m=\u001b[39m \u001b[38;5;28mlen\u001b[39m(df)\n\u001b[1;32m     31\u001b[0m reference \u001b[38;5;241m=\u001b[39m \u001b[38;5;124m'\u001b[39m\u001b[38;5;124m; \u001b[39m\u001b[38;5;124m'\u001b[39m\u001b[38;5;241m.\u001b[39mjoin(df[\u001b[38;5;124m'\u001b[39m\u001b[38;5;124mDocument ChEMBL ID\u001b[39m\u001b[38;5;124m'\u001b[39m]\u001b[38;5;241m.\u001b[39munique()\u001b[38;5;241m.\u001b[39mtolist())\n",
      "\u001b[0;31mKeyError\u001b[0m: 'eaat3'"
     ]
    }
   ],
   "source": [
    "save_dir = './info'\n",
    "names = {}\n",
    "infos = []\n",
    "alldf = []\n",
    "for csv in csvs:\n",
    "    df = pd.read_csv(csv, index_col=0)\n",
    "    \n",
    "    csv_name = os.path.basename(csv).replace('.csv', '')\n",
    "    print(csv_name)\n",
    "    \n",
    "    name = csv_name.lower()\n",
    "    display_name = csv_name\n",
    "    url_name = os.path.basename(csv)\n",
    "    col_list = df.columns.tolist()\n",
    "    smiles_idx = col_list.index('Smiles')\n",
    "    y_idx = col_list.index('Standard Value')\n",
    "    \n",
    "    # Format: name: [display_name, url_name, csv_name, smiles_idx, y_idx]\n",
    "    res = {name: [display_name, url_name, csv_name, smiles_idx, y_idx]}\n",
    "    names.update(res)\n",
    "    #print(name, len(df), len(df1))\n",
    "    #print(res)\n",
    "    \n",
    "    #dfs = df.Smiles.apply(get_core_fw).apply(pd.Series)\n",
    "    #scaffolds = df.Smiles.apply(MurckoScaffoldSmilesFromSmiles).value_counts()\n",
    "\n",
    "    dataset = name\n",
    "    target = df['Target Name'].unique().tolist()[0]\n",
    "    target_type = target_type_dict[dataset]\n",
    "    inhibitors = len(df)\n",
    "    reference = '; '.join(df['Document ChEMBL ID'].unique().tolist())\n",
    "\n",
    "    info = {'dataset': dataset, 'target':target, \n",
    "            'target_type':target_type, 'size':inhibitors,\n",
    "            'reference':reference}\n",
    "    infos.append(info)\n",
    "    \n",
    "    if not os.path.exists(save_dir):\n",
    "        os.makedirs(save_dir)\n",
    "        \n",
    "    plot_tmap(df, name, save_dir)\n",
    "    \n",
    "    df1 = df[['Standard Value', 'pChEMBL Value', 'Smiles']]\n",
    "    df1['dataset'] = name\n",
    "    alldf.append(df1)\n",
    "    \n",
    "pd.DataFrame(names).to_json(os.path.join(save_dir, 'names.json'))\n",
    "pd.DataFrame(infos).to_json(os.path.join(save_dir, 'infos.json'))\n",
    "pd.DataFrame(infos).to_markdown(os.path.join(save_dir, 'infos.md'))\n",
    "pd.DataFrame(names).to_markdown(os.path.join(save_dir, 'names.md'))"
   ]
  },
  {
   "cell_type": "code",
   "execution_count": 86,
   "id": "ba38f7cf-e523-4433-8d2d-ee1374374e11",
   "metadata": {},
   "outputs": [],
   "source": [
    "del df"
   ]
  },
  {
   "cell_type": "code",
   "execution_count": 166,
   "id": "7177fca4-a0eb-4297-89a3-d129df4bda92",
   "metadata": {},
   "outputs": [
    {
     "data": {
      "text/plain": [
       "array(['GPCR', 'Kinase', 'Nuclear Receptor', 'Protease', 'Other Enzyme'],\n",
       "      dtype=object)"
      ]
     },
     "execution_count": 166,
     "metadata": {},
     "output_type": "execute_result"
    }
   ],
   "source": [
    "dfa.target.unique()"
   ]
  },
  {
   "cell_type": "code",
   "execution_count": 169,
   "id": "29e5f226-9719-44b9-a33d-06437cf352c0",
   "metadata": {
    "tags": []
   },
   "outputs": [
    {
     "name": "stderr",
     "output_type": "stream",
     "text": [
      "100%|############################################################################| 1073/1073 [00:00<00:00, 41340.46it/s]\n"
     ]
    },
    {
     "data": {
      "text/html": [
       "\n",
       "        <iframe\n",
       "            width=\"100%\"\n",
       "            height=\"750\"\n",
       "            src=\"./info/LSSNS.html\"\n",
       "            frameborder=\"0\"\n",
       "            allowfullscreen\n",
       "            \n",
       "        ></iframe>\n",
       "        "
      ],
      "text/plain": [
       "<IPython.lib.display.IFrame at 0x7fa4fd33b5e0>"
      ]
     },
     "metadata": {},
     "output_type": "display_data"
    },
    {
     "data": {
      "text/html": [
       "<a href='./info/LSSNS.html' target='_blank'>./info/LSSNS.html</a><br>"
      ],
      "text/plain": [
       "/home/shenwanxiang/Research/LSSinhibitors/dataset/LSSNS/info/LSSNS.html"
      ]
     },
     "metadata": {},
     "output_type": "display_data"
    }
   ],
   "source": [
    "dfa = pd.concat(alldf)\n",
    "dfa['target'] = dfa.dataset.map(target_type_dict)\n",
    "data_seq = dfa.sort_values(['target', 'dataset']).dataset.drop_duplicates().reset_index(drop=True).to_list()\n",
    "md = dict(zip(data_seq, range(len(data_seq))))\n",
    "md2 = {'GPCR':1, 'Kinase':2, 'Nuclear Receptor':3, 'Protease':4, 'Other Enzyme':5}\n",
    "\n",
    "dfa['subgroup1'] = dfa.dataset.map(md)\n",
    "dfa['subgroup2'] = dfa.target.map(md2)\n",
    "\n",
    "def rtuple(x):\n",
    "    d = pd.Series(x).reset_index().set_index(0)['index'].to_dict()\n",
    "    return [(k, v) for k, v in d.items()]\n",
    "pair_key = rtuple(md)\n",
    "pair_key2 = rtuple(md2)\n",
    "smiles_list = dfa.Smiles.to_list()\n",
    "\n",
    "dim = 2048\n",
    "data_save_folder = save_dir\n",
    "task_name = 'LSSNS'\n",
    "\n",
    "mols = [Chem.MolFromSmiles(s) for s in smiles_list]\n",
    "ECFP4_fps = [AllChem.GetMorganFingerprintAsBitVect(x,2,dim) for x in tqdm(mols, ascii=True)]\n",
    "ecfps = [tmap.VectorUchar(list(fp)) for fp in ECFP4_fps]\n",
    "enc = tmap.Minhash(dim,seed = 42)\n",
    "lf = tmap.LSHForest(dim)\n",
    "lf.batch_add(enc.batch_from_binary_array(ecfps))\n",
    "lf.index()\n",
    "\n",
    "cfg = tmap.LayoutConfiguration()\n",
    "cfg.k = 50\n",
    "cfg.kc = 50\n",
    "cfg.sl_scaling_min = 1.0\n",
    "cfg.sl_scaling_max = 1.0\n",
    "cfg.sl_repeats = 1\n",
    "cfg.sl_extra_scaling_steps = 2\n",
    "cfg.placer = tmap.Placer.Barycenter\n",
    "cfg.merger = tmap.Merger.LocalBiconnected\n",
    "cfg.merger_factor = 2.0\n",
    "cfg.merger_adjustment = 0\n",
    "cfg.fme_iterations = 5000\n",
    "cfg.sl_scaling_type = tmap.ScalingType.RelativeToDesiredLength\n",
    "cfg.node_size = 1 / 2\n",
    "cfg.mmm_repeats = 1\n",
    "x, y, s, t, gp = tmap.layout_from_lsh_forest(lf, config = cfg)\n",
    "\n",
    "#======================================================\n",
    "c1 = dfa['subgroup1']\n",
    "c2 = dfa['pChEMBL Value'].round(3)\n",
    "c3 = dfa['subgroup2']\n",
    "c = [c1, c2, c3] #具体的属性数据\n",
    "\n",
    "series_title = ['dataset', 'pIC50', 'class'] ##具体的属性数据名称\n",
    "categorical = [True, False, True]\n",
    "cmap = ['tab10', 'jet', 'Set1']\n",
    "min_legend_label= [None, str(c2.min()), None]\n",
    "max_legend_label= [None, str(c2.max()), None]\n",
    "\n",
    "labels = (dfa.Smiles + \"__\" + dfa.index + \"__\" \n",
    "          + (dfa.dataset.apply(lambda x:x.upper()) + ': ' \n",
    "             + dfa['Standard Value'].astype(str) + ' nM')).tolist() #显示smiles， 以及图片中的标签\n",
    "\n",
    "point_scale = 10\n",
    "\n",
    "legend_labels = [pair_key, None, pair_key2]\n",
    "#========================================================\n",
    "\n",
    "\n",
    "faerun = Faerun(view=\"front\", clear_color='#111111',coords=False) #'#ffffff'\n",
    "faerun.add_scatter(task_name, { \"x\": x, \"y\": y, \n",
    "                              \"c\": c, \"labels\": labels},\n",
    "                   legend_labels = legend_labels,\n",
    "                   categorical = categorical,\n",
    "                   max_legend_label = max_legend_label,\n",
    "                   min_legend_label = min_legend_label,\n",
    "                   point_scale=point_scale,\n",
    "                   colormap = cmap,\n",
    "                   has_legend=True,\n",
    "                   series_title = series_title,\n",
    "                   shader = 'smoothCircle') #\"sphere\", #\n",
    "\n",
    "\n",
    "faerun.add_tree(task_name + \"_tree\", {\"from\": s, \"to\": t}, point_helper=task_name,  color='#666666', ) #colors when no value\n",
    "\n",
    "# Choose the \"smiles\" template to display structure on hover\n",
    "faerun.plot(task_name, path = data_save_folder, template=\"smiles\", notebook_height=750)"
   ]
  },
  {
   "cell_type": "code",
   "execution_count": 134,
   "id": "c56da691-94c8-4ac8-8154-cf77d84f33aa",
   "metadata": {},
   "outputs": [],
   "source": []
  },
  {
   "cell_type": "code",
   "execution_count": 137,
   "id": "85d09fde-5336-4260-acc9-4cc6a46be846",
   "metadata": {},
   "outputs": [],
   "source": []
  }
 ],
 "metadata": {
  "kernelspec": {
   "display_name": "Python 3 (ipykernel)",
   "language": "python",
   "name": "python3"
  },
  "language_info": {
   "codemirror_mode": {
    "name": "ipython",
    "version": 3
   },
   "file_extension": ".py",
   "mimetype": "text/x-python",
   "name": "python",
   "nbconvert_exporter": "python",
   "pygments_lexer": "ipython3",
   "version": "3.9.7"
  }
 },
 "nbformat": 4,
 "nbformat_minor": 5
}
