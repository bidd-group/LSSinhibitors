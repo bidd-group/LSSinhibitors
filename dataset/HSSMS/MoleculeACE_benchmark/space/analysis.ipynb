{
 "cells": [
  {
   "cell_type": "code",
   "execution_count": 1,
   "id": "42964008-4130-4c0f-9544-55f04ff5f9f2",
   "metadata": {},
   "outputs": [],
   "source": [
    "import pandas as pd\n",
    "from rdkit.Chem import AllChem\n",
    "from rdkit import Chem\n",
    "from rdkit.Chem.Scaffolds import MurckoScaffold, rdScaffoldNetwork\n",
    "from rdkit.Chem import rdFMCS \n",
    "from rdkit import DataStructs, Chem\n",
    "from scipy.spatial.distance import squareform, cdist, pdist\n",
    "from scipy.cluster.hierarchy import fcluster, linkage, dendrogram\n",
    "import matplotlib.pylab as plt\n",
    "import numpy as np\n",
    "import pandas as pd\n",
    "from rdkit.Chem.Scaffolds.MurckoScaffold import MurckoScaffoldSmilesFromSmiles\n",
    "import tmap\n",
    "from faerun import Faerun\n",
    "from tqdm import tqdm\n",
    "from glob import glob\n",
    "import os\n",
    "\n",
    "\n",
    "import seaborn as sns\n",
    "\n",
    "sns.set(style = 'white', font_scale=2)\n"
   ]
  },
  {
   "cell_type": "code",
   "execution_count": 26,
   "id": "188a9267-1672-4b69-8811-7b17cf0955d6",
   "metadata": {},
   "outputs": [],
   "source": [
    "def _calc_ecfp4(smiles):\n",
    "    ecfp4 = AllChem.GetMorganFingerprint(Chem.MolFromSmiles(smiles), radius = 2)    \n",
    "    return ecfp4\n",
    "\n",
    "def pairwise_dist_tanimoto(smiles_list):    \n",
    "    MorganFP_list = [_calc_ecfp4(i) for i in smiles_list]\n",
    "    TanimotoDist =[]   \n",
    "    for i, fp1 in enumerate(MorganFP_list):\n",
    "        for fp2 in MorganFP_list[i+1:]:\n",
    "            s = DataStructs.TanimotoSimilarity(fp1,fp2)\n",
    "            #Available similarity metrics include Tanimoto, Dice, \n",
    "            # Cosine, Sokal, Russel, Kulczynski, McConnaughey, and Tversky\n",
    "            d = 1. - s #distance\n",
    "            TanimotoDist.append(d)\n",
    "    dist_matrix = squareform(TanimotoDist)\n",
    "\n",
    "    return dist_matrix\n",
    "\n",
    "def get_core_fw(smi):\n",
    "    mol = Chem.MolFromSmiles(smi)\n",
    "    core = MurckoScaffold.GetScaffoldForMol(mol)\n",
    "    fw = MurckoScaffold.MakeScaffoldGeneric(core)\n",
    "    return Chem.MolToSmiles(core), Chem.MolToSmiles(fw)\n",
    "\n",
    "def get_mcs(mols):\n",
    "    scd = rdFMCS.FindMCS(mols, completeRingsOnly=True,)\n",
    "    sc = Chem.MolFromSmarts(scd.smartsString)\n",
    "    ##get matched\n",
    "    # mol = mols[0]\n",
    "    # match_aidx = mol.GetSubstructMatches(sc)\n",
    "    # frag = AllChem.MolFragmentToSmarts(mol, match_aidx[0])\n",
    "    return sc\n"
   ]
  },
  {
   "cell_type": "code",
   "execution_count": 30,
   "id": "8a3a5fe8-2765-41f0-808d-5d7560f84e12",
   "metadata": {},
   "outputs": [
    {
     "data": {
      "text/html": [
       "<div>\n",
       "<style scoped>\n",
       "    .dataframe tbody tr th:only-of-type {\n",
       "        vertical-align: middle;\n",
       "    }\n",
       "\n",
       "    .dataframe tbody tr th {\n",
       "        vertical-align: top;\n",
       "    }\n",
       "\n",
       "    .dataframe thead th {\n",
       "        text-align: right;\n",
       "    }\n",
       "</style>\n",
       "<table border=\"1\" class=\"dataframe\">\n",
       "  <thead>\n",
       "    <tr style=\"text-align: right;\">\n",
       "      <th></th>\n",
       "      <th>smiles</th>\n",
       "      <th>exp_mean [nM]</th>\n",
       "      <th>y</th>\n",
       "      <th>cliff_mol</th>\n",
       "      <th>split</th>\n",
       "    </tr>\n",
       "  </thead>\n",
       "  <tbody>\n",
       "    <tr>\n",
       "      <th>0</th>\n",
       "      <td>CCC(Cc1ccc(OC)c(C(=O)NCc2ccc(OCCc3ccccc3)cc2)c...</td>\n",
       "      <td>2700.000</td>\n",
       "      <td>-3.431364</td>\n",
       "      <td>1</td>\n",
       "      <td>train</td>\n",
       "    </tr>\n",
       "    <tr>\n",
       "      <th>1</th>\n",
       "      <td>CC[C@@H](Cc1ccc(OC)c(C(=O)NCc2ccc(Oc3ccc(F)cc3...</td>\n",
       "      <td>9.205</td>\n",
       "      <td>-0.964024</td>\n",
       "      <td>1</td>\n",
       "      <td>train</td>\n",
       "    </tr>\n",
       "    <tr>\n",
       "      <th>2</th>\n",
       "      <td>CCCCC(Cc1ccc(OC)c(C(=O)NCc2ccc(C(F)(F)F)cc2)c1...</td>\n",
       "      <td>1000.000</td>\n",
       "      <td>-3.000000</td>\n",
       "      <td>1</td>\n",
       "      <td>test</td>\n",
       "    </tr>\n",
       "  </tbody>\n",
       "</table>\n",
       "</div>"
      ],
      "text/plain": [
       "                                              smiles  exp_mean [nM]         y  \\\n",
       "0  CCC(Cc1ccc(OC)c(C(=O)NCc2ccc(OCCc3ccccc3)cc2)c...       2700.000 -3.431364   \n",
       "1  CC[C@@H](Cc1ccc(OC)c(C(=O)NCc2ccc(Oc3ccc(F)cc3...          9.205 -0.964024   \n",
       "2  CCCCC(Cc1ccc(OC)c(C(=O)NCc2ccc(C(F)(F)F)cc2)c1...       1000.000 -3.000000   \n",
       "\n",
       "   cliff_mol  split  \n",
       "0          1  train  \n",
       "1          1  train  \n",
       "2          1   test  "
      ]
     },
     "execution_count": 30,
     "metadata": {},
     "output_type": "execute_result"
    }
   ],
   "source": [
    "df.head(3)"
   ]
  },
  {
   "cell_type": "code",
   "execution_count": 42,
   "id": "fde2cdd3-5852-4798-9c19-2599dd947d27",
   "metadata": {
    "tags": []
   },
   "outputs": [
    {
     "name": "stderr",
     "output_type": "stream",
     "text": [
      "100%|############################################################################| 1721/1721 [00:00<00:00, 35256.75it/s]\n"
     ]
    },
    {
     "data": {
      "text/html": [
       "\n",
       "        <iframe\n",
       "            width=\"100%\"\n",
       "            height=\"750\"\n",
       "            src=\"./info/CHEMBL239_EC50.html\"\n",
       "            frameborder=\"0\"\n",
       "            allowfullscreen\n",
       "            \n",
       "        ></iframe>\n",
       "        "
      ],
      "text/plain": [
       "<IPython.lib.display.IFrame at 0x7f17ca72c640>"
      ]
     },
     "metadata": {},
     "output_type": "display_data"
    },
    {
     "data": {
      "text/html": [
       "<a href='./info/CHEMBL239_EC50.html' target='_blank'>./info/CHEMBL239_EC50.html</a><br>"
      ],
      "text/plain": [
       "/home/shenwanxiang/Research/MPCD/dataset/HSSMS/MoleculeACE_benchmark/space/info/CHEMBL239_EC50.html"
      ]
     },
     "metadata": {},
     "output_type": "display_data"
    },
    {
     "name": "stderr",
     "output_type": "stream",
     "text": [
      "100%|############################################################################| 1859/1859 [00:00<00:00, 41056.97it/s]\n"
     ]
    },
    {
     "data": {
      "text/html": [
       "\n",
       "        <iframe\n",
       "            width=\"100%\"\n",
       "            height=\"750\"\n",
       "            src=\"./info/CHEMBL219_Ki.html\"\n",
       "            frameborder=\"0\"\n",
       "            allowfullscreen\n",
       "            \n",
       "        ></iframe>\n",
       "        "
      ],
      "text/plain": [
       "<IPython.lib.display.IFrame at 0x7f17b8238f70>"
      ]
     },
     "metadata": {},
     "output_type": "display_data"
    },
    {
     "data": {
      "text/html": [
       "<a href='./info/CHEMBL219_Ki.html' target='_blank'>./info/CHEMBL219_Ki.html</a><br>"
      ],
      "text/plain": [
       "/home/shenwanxiang/Research/MPCD/dataset/HSSMS/MoleculeACE_benchmark/space/info/CHEMBL219_Ki.html"
      ]
     },
     "metadata": {},
     "output_type": "display_data"
    },
    {
     "name": "stderr",
     "output_type": "stream",
     "text": [
      "100%|##############################################################################| 976/976 [00:00<00:00, 32788.73it/s]\n"
     ]
    },
    {
     "data": {
      "text/html": [
       "\n",
       "        <iframe\n",
       "            width=\"100%\"\n",
       "            height=\"750\"\n",
       "            src=\"./info/CHEMBL2971_Ki.html\"\n",
       "            frameborder=\"0\"\n",
       "            allowfullscreen\n",
       "            \n",
       "        ></iframe>\n",
       "        "
      ],
      "text/plain": [
       "<IPython.lib.display.IFrame at 0x7f17b8470e50>"
      ]
     },
     "metadata": {},
     "output_type": "display_data"
    },
    {
     "data": {
      "text/html": [
       "<a href='./info/CHEMBL2971_Ki.html' target='_blank'>./info/CHEMBL2971_Ki.html</a><br>"
      ],
      "text/plain": [
       "/home/shenwanxiang/Research/MPCD/dataset/HSSMS/MoleculeACE_benchmark/space/info/CHEMBL2971_Ki.html"
      ]
     },
     "metadata": {},
     "output_type": "display_data"
    },
    {
     "name": "stderr",
     "output_type": "stream",
     "text": [
      "100%|############################################################################| 1456/1456 [00:00<00:00, 42592.16it/s]\n"
     ]
    },
    {
     "data": {
      "text/html": [
       "\n",
       "        <iframe\n",
       "            width=\"100%\"\n",
       "            height=\"750\"\n",
       "            src=\"./info/CHEMBL2147_Ki.html\"\n",
       "            frameborder=\"0\"\n",
       "            allowfullscreen\n",
       "            \n",
       "        ></iframe>\n",
       "        "
      ],
      "text/plain": [
       "<IPython.lib.display.IFrame at 0x7f17b82381f0>"
      ]
     },
     "metadata": {},
     "output_type": "display_data"
    },
    {
     "data": {
      "text/html": [
       "<a href='./info/CHEMBL2147_Ki.html' target='_blank'>./info/CHEMBL2147_Ki.html</a><br>"
      ],
      "text/plain": [
       "/home/shenwanxiang/Research/MPCD/dataset/HSSMS/MoleculeACE_benchmark/space/info/CHEMBL2147_Ki.html"
      ]
     },
     "metadata": {},
     "output_type": "display_data"
    },
    {
     "name": "stderr",
     "output_type": "stream",
     "text": [
      "100%|##############################################################################| 973/973 [00:00<00:00, 39613.46it/s]\n"
     ]
    },
    {
     "data": {
      "text/html": [
       "\n",
       "        <iframe\n",
       "            width=\"100%\"\n",
       "            height=\"750\"\n",
       "            src=\"./info/CHEMBL231_Ki.html\"\n",
       "            frameborder=\"0\"\n",
       "            allowfullscreen\n",
       "            \n",
       "        ></iframe>\n",
       "        "
      ],
      "text/plain": [
       "<IPython.lib.display.IFrame at 0x7f17b061cbb0>"
      ]
     },
     "metadata": {},
     "output_type": "display_data"
    },
    {
     "data": {
      "text/html": [
       "<a href='./info/CHEMBL231_Ki.html' target='_blank'>./info/CHEMBL231_Ki.html</a><br>"
      ],
      "text/plain": [
       "/home/shenwanxiang/Research/MPCD/dataset/HSSMS/MoleculeACE_benchmark/space/info/CHEMBL231_Ki.html"
      ]
     },
     "metadata": {},
     "output_type": "display_data"
    },
    {
     "name": "stderr",
     "output_type": "stream",
     "text": [
      "100%|##############################################################################| 631/631 [00:00<00:00, 33631.61it/s]\n"
     ]
    },
    {
     "data": {
      "text/html": [
       "\n",
       "        <iframe\n",
       "            width=\"100%\"\n",
       "            height=\"750\"\n",
       "            src=\"./info/CHEMBL2047_EC50.html\"\n",
       "            frameborder=\"0\"\n",
       "            allowfullscreen\n",
       "            \n",
       "        ></iframe>\n",
       "        "
      ],
      "text/plain": [
       "<IPython.lib.display.IFrame at 0x7f17b0242940>"
      ]
     },
     "metadata": {},
     "output_type": "display_data"
    },
    {
     "data": {
      "text/html": [
       "<a href='./info/CHEMBL2047_EC50.html' target='_blank'>./info/CHEMBL2047_EC50.html</a><br>"
      ],
      "text/plain": [
       "/home/shenwanxiang/Research/MPCD/dataset/HSSMS/MoleculeACE_benchmark/space/info/CHEMBL2047_EC50.html"
      ]
     },
     "metadata": {},
     "output_type": "display_data"
    },
    {
     "name": "stderr",
     "output_type": "stream",
     "text": [
      "100%|##############################################################################| 750/750 [00:00<00:00, 35544.95it/s]\n"
     ]
    },
    {
     "data": {
      "text/html": [
       "\n",
       "        <iframe\n",
       "            width=\"100%\"\n",
       "            height=\"750\"\n",
       "            src=\"./info/CHEMBL2034_Ki.html\"\n",
       "            frameborder=\"0\"\n",
       "            allowfullscreen\n",
       "            \n",
       "        ></iframe>\n",
       "        "
      ],
      "text/plain": [
       "<IPython.lib.display.IFrame at 0x7f17ca72ca60>"
      ]
     },
     "metadata": {},
     "output_type": "display_data"
    },
    {
     "data": {
      "text/html": [
       "<a href='./info/CHEMBL2034_Ki.html' target='_blank'>./info/CHEMBL2034_Ki.html</a><br>"
      ],
      "text/plain": [
       "/home/shenwanxiang/Research/MPCD/dataset/HSSMS/MoleculeACE_benchmark/space/info/CHEMBL2034_Ki.html"
      ]
     },
     "metadata": {},
     "output_type": "display_data"
    },
    {
     "name": "stderr",
     "output_type": "stream",
     "text": [
      "100%|##############################################################################| 731/731 [00:00<00:00, 47704.07it/s]\n"
     ]
    },
    {
     "data": {
      "text/html": [
       "\n",
       "        <iframe\n",
       "            width=\"100%\"\n",
       "            height=\"750\"\n",
       "            src=\"./info/CHEMBL4203_Ki.html\"\n",
       "            frameborder=\"0\"\n",
       "            allowfullscreen\n",
       "            \n",
       "        ></iframe>\n",
       "        "
      ],
      "text/plain": [
       "<IPython.lib.display.IFrame at 0x7f17b0598a90>"
      ]
     },
     "metadata": {},
     "output_type": "display_data"
    },
    {
     "data": {
      "text/html": [
       "<a href='./info/CHEMBL4203_Ki.html' target='_blank'>./info/CHEMBL4203_Ki.html</a><br>"
      ],
      "text/plain": [
       "/home/shenwanxiang/Research/MPCD/dataset/HSSMS/MoleculeACE_benchmark/space/info/CHEMBL4203_Ki.html"
      ]
     },
     "metadata": {},
     "output_type": "display_data"
    },
    {
     "name": "stderr",
     "output_type": "stream",
     "text": [
      "100%|############################################################################| 1471/1471 [00:00<00:00, 37082.26it/s]\n"
     ]
    },
    {
     "data": {
      "text/html": [
       "\n",
       "        <iframe\n",
       "            width=\"100%\"\n",
       "            height=\"750\"\n",
       "            src=\"./info/CHEMBL4792_Ki.html\"\n",
       "            frameborder=\"0\"\n",
       "            allowfullscreen\n",
       "            \n",
       "        ></iframe>\n",
       "        "
      ],
      "text/plain": [
       "<IPython.lib.display.IFrame at 0x7f17b0418b80>"
      ]
     },
     "metadata": {},
     "output_type": "display_data"
    },
    {
     "data": {
      "text/html": [
       "<a href='./info/CHEMBL4792_Ki.html' target='_blank'>./info/CHEMBL4792_Ki.html</a><br>"
      ],
      "text/plain": [
       "/home/shenwanxiang/Research/MPCD/dataset/HSSMS/MoleculeACE_benchmark/space/info/CHEMBL4792_Ki.html"
      ]
     },
     "metadata": {},
     "output_type": "display_data"
    },
    {
     "name": "stderr",
     "output_type": "stream",
     "text": [
      "100%|############################################################################| 3142/3142 [00:00<00:00, 29479.87it/s]\n"
     ]
    },
    {
     "data": {
      "text/html": [
       "\n",
       "        <iframe\n",
       "            width=\"100%\"\n",
       "            height=\"750\"\n",
       "            src=\"./info/CHEMBL233_Ki.html\"\n",
       "            frameborder=\"0\"\n",
       "            allowfullscreen\n",
       "            \n",
       "        ></iframe>\n",
       "        "
      ],
      "text/plain": [
       "<IPython.lib.display.IFrame at 0x7f17b8238a30>"
      ]
     },
     "metadata": {},
     "output_type": "display_data"
    },
    {
     "data": {
      "text/html": [
       "<a href='./info/CHEMBL233_Ki.html' target='_blank'>./info/CHEMBL233_Ki.html</a><br>"
      ],
      "text/plain": [
       "/home/shenwanxiang/Research/MPCD/dataset/HSSMS/MoleculeACE_benchmark/space/info/CHEMBL233_Ki.html"
      ]
     },
     "metadata": {},
     "output_type": "display_data"
    },
    {
     "name": "stderr",
     "output_type": "stream",
     "text": [
      "100%|############################################################################| 1125/1125 [00:00<00:00, 33653.75it/s]\n"
     ]
    },
    {
     "data": {
      "text/html": [
       "\n",
       "        <iframe\n",
       "            width=\"100%\"\n",
       "            height=\"750\"\n",
       "            src=\"./info/CHEMBL3979_EC50.html\"\n",
       "            frameborder=\"0\"\n",
       "            allowfullscreen\n",
       "            \n",
       "        ></iframe>\n",
       "        "
      ],
      "text/plain": [
       "<IPython.lib.display.IFrame at 0x7f17c9dc6f40>"
      ]
     },
     "metadata": {},
     "output_type": "display_data"
    },
    {
     "data": {
      "text/html": [
       "<a href='./info/CHEMBL3979_EC50.html' target='_blank'>./info/CHEMBL3979_EC50.html</a><br>"
      ],
      "text/plain": [
       "/home/shenwanxiang/Research/MPCD/dataset/HSSMS/MoleculeACE_benchmark/space/info/CHEMBL3979_EC50.html"
      ]
     },
     "metadata": {},
     "output_type": "display_data"
    },
    {
     "name": "stderr",
     "output_type": "stream",
     "text": [
      "100%|############################################################################| 1328/1328 [00:00<00:00, 48966.92it/s]\n"
     ]
    },
    {
     "data": {
      "text/html": [
       "\n",
       "        <iframe\n",
       "            width=\"100%\"\n",
       "            height=\"750\"\n",
       "            src=\"./info/CHEMBL287_Ki.html\"\n",
       "            frameborder=\"0\"\n",
       "            allowfullscreen\n",
       "            \n",
       "        ></iframe>\n",
       "        "
      ],
      "text/plain": [
       "<IPython.lib.display.IFrame at 0x7f17c8f55640>"
      ]
     },
     "metadata": {},
     "output_type": "display_data"
    },
    {
     "data": {
      "text/html": [
       "<a href='./info/CHEMBL287_Ki.html' target='_blank'>./info/CHEMBL287_Ki.html</a><br>"
      ],
      "text/plain": [
       "/home/shenwanxiang/Research/MPCD/dataset/HSSMS/MoleculeACE_benchmark/space/info/CHEMBL287_Ki.html"
      ]
     },
     "metadata": {},
     "output_type": "display_data"
    },
    {
     "name": "stderr",
     "output_type": "stream",
     "text": [
      "100%|##############################################################################| 659/659 [00:00<00:00, 28138.23it/s]\n"
     ]
    },
    {
     "data": {
      "text/html": [
       "\n",
       "        <iframe\n",
       "            width=\"100%\"\n",
       "            height=\"750\"\n",
       "            src=\"./info/CHEMBL1871_Ki.html\"\n",
       "            frameborder=\"0\"\n",
       "            allowfullscreen\n",
       "            \n",
       "        ></iframe>\n",
       "        "
      ],
      "text/plain": [
       "<IPython.lib.display.IFrame at 0x7f17b06797f0>"
      ]
     },
     "metadata": {},
     "output_type": "display_data"
    },
    {
     "data": {
      "text/html": [
       "<a href='./info/CHEMBL1871_Ki.html' target='_blank'>./info/CHEMBL1871_Ki.html</a><br>"
      ],
      "text/plain": [
       "/home/shenwanxiang/Research/MPCD/dataset/HSSMS/MoleculeACE_benchmark/space/info/CHEMBL1871_Ki.html"
      ]
     },
     "metadata": {},
     "output_type": "display_data"
    },
    {
     "name": "stderr",
     "output_type": "stream",
     "text": [
      "100%|############################################################################| 2349/2349 [00:00<00:00, 33513.80it/s]\n"
     ]
    },
    {
     "data": {
      "text/html": [
       "\n",
       "        <iframe\n",
       "            width=\"100%\"\n",
       "            height=\"750\"\n",
       "            src=\"./info/CHEMBL235_EC50.html\"\n",
       "            frameborder=\"0\"\n",
       "            allowfullscreen\n",
       "            \n",
       "        ></iframe>\n",
       "        "
      ],
      "text/plain": [
       "<IPython.lib.display.IFrame at 0x7f17b8459b50>"
      ]
     },
     "metadata": {},
     "output_type": "display_data"
    },
    {
     "data": {
      "text/html": [
       "<a href='./info/CHEMBL235_EC50.html' target='_blank'>./info/CHEMBL235_EC50.html</a><br>"
      ],
      "text/plain": [
       "/home/shenwanxiang/Research/MPCD/dataset/HSSMS/MoleculeACE_benchmark/space/info/CHEMBL235_EC50.html"
      ]
     },
     "metadata": {},
     "output_type": "display_data"
    },
    {
     "name": "stderr",
     "output_type": "stream",
     "text": [
      "100%|############################################################################| 1031/1031 [00:00<00:00, 34502.70it/s]\n"
     ]
    },
    {
     "data": {
      "text/html": [
       "\n",
       "        <iframe\n",
       "            width=\"100%\"\n",
       "            height=\"750\"\n",
       "            src=\"./info/CHEMBL218_EC50.html\"\n",
       "            frameborder=\"0\"\n",
       "            allowfullscreen\n",
       "            \n",
       "        ></iframe>\n",
       "        "
      ],
      "text/plain": [
       "<IPython.lib.display.IFrame at 0x7f17c8fe4ca0>"
      ]
     },
     "metadata": {},
     "output_type": "display_data"
    },
    {
     "data": {
      "text/html": [
       "<a href='./info/CHEMBL218_EC50.html' target='_blank'>./info/CHEMBL218_EC50.html</a><br>"
      ],
      "text/plain": [
       "/home/shenwanxiang/Research/MPCD/dataset/HSSMS/MoleculeACE_benchmark/space/info/CHEMBL218_EC50.html"
      ]
     },
     "metadata": {},
     "output_type": "display_data"
    },
    {
     "name": "stderr",
     "output_type": "stream",
     "text": [
      "100%|##############################################################################| 960/960 [00:00<00:00, 35762.47it/s]\n"
     ]
    },
    {
     "data": {
      "text/html": [
       "\n",
       "        <iframe\n",
       "            width=\"100%\"\n",
       "            height=\"750\"\n",
       "            src=\"./info/CHEMBL4005_Ki.html\"\n",
       "            frameborder=\"0\"\n",
       "            allowfullscreen\n",
       "            \n",
       "        ></iframe>\n",
       "        "
      ],
      "text/plain": [
       "<IPython.lib.display.IFrame at 0x7f17c8d471f0>"
      ]
     },
     "metadata": {},
     "output_type": "display_data"
    },
    {
     "data": {
      "text/html": [
       "<a href='./info/CHEMBL4005_Ki.html' target='_blank'>./info/CHEMBL4005_Ki.html</a><br>"
      ],
      "text/plain": [
       "/home/shenwanxiang/Research/MPCD/dataset/HSSMS/MoleculeACE_benchmark/space/info/CHEMBL4005_Ki.html"
      ]
     },
     "metadata": {},
     "output_type": "display_data"
    },
    {
     "name": "stderr",
     "output_type": "stream",
     "text": [
      "100%|############################################################################| 3317/3317 [00:00<00:00, 38829.75it/s]\n"
     ]
    },
    {
     "data": {
      "text/html": [
       "\n",
       "        <iframe\n",
       "            width=\"100%\"\n",
       "            height=\"750\"\n",
       "            src=\"./info/CHEMBL214_Ki.html\"\n",
       "            frameborder=\"0\"\n",
       "            allowfullscreen\n",
       "            \n",
       "        ></iframe>\n",
       "        "
      ],
      "text/plain": [
       "<IPython.lib.display.IFrame at 0x7f17b024b910>"
      ]
     },
     "metadata": {},
     "output_type": "display_data"
    },
    {
     "data": {
      "text/html": [
       "<a href='./info/CHEMBL214_Ki.html' target='_blank'>./info/CHEMBL214_Ki.html</a><br>"
      ],
      "text/plain": [
       "/home/shenwanxiang/Research/MPCD/dataset/HSSMS/MoleculeACE_benchmark/space/info/CHEMBL214_Ki.html"
      ]
     },
     "metadata": {},
     "output_type": "display_data"
    },
    {
     "name": "stderr",
     "output_type": "stream",
     "text": [
      "100%|##############################################################################| 856/856 [00:00<00:00, 44848.78it/s]\n"
     ]
    },
    {
     "data": {
      "text/html": [
       "\n",
       "        <iframe\n",
       "            width=\"100%\"\n",
       "            height=\"750\"\n",
       "            src=\"./info/CHEMBL262_Ki.html\"\n",
       "            frameborder=\"0\"\n",
       "            allowfullscreen\n",
       "            \n",
       "        ></iframe>\n",
       "        "
      ],
      "text/plain": [
       "<IPython.lib.display.IFrame at 0x7f17b07270d0>"
      ]
     },
     "metadata": {},
     "output_type": "display_data"
    },
    {
     "data": {
      "text/html": [
       "<a href='./info/CHEMBL262_Ki.html' target='_blank'>./info/CHEMBL262_Ki.html</a><br>"
      ],
      "text/plain": [
       "/home/shenwanxiang/Research/MPCD/dataset/HSSMS/MoleculeACE_benchmark/space/info/CHEMBL262_Ki.html"
      ]
     },
     "metadata": {},
     "output_type": "display_data"
    },
    {
     "name": "stderr",
     "output_type": "stream",
     "text": [
      "100%|############################################################################| 2754/2754 [00:00<00:00, 30178.48it/s]\n"
     ]
    },
    {
     "data": {
      "text/html": [
       "\n",
       "        <iframe\n",
       "            width=\"100%\"\n",
       "            height=\"750\"\n",
       "            src=\"./info/CHEMBL204_Ki.html\"\n",
       "            frameborder=\"0\"\n",
       "            allowfullscreen\n",
       "            \n",
       "        ></iframe>\n",
       "        "
      ],
      "text/plain": [
       "<IPython.lib.display.IFrame at 0x7f17b0679a60>"
      ]
     },
     "metadata": {},
     "output_type": "display_data"
    },
    {
     "data": {
      "text/html": [
       "<a href='./info/CHEMBL204_Ki.html' target='_blank'>./info/CHEMBL204_Ki.html</a><br>"
      ],
      "text/plain": [
       "/home/shenwanxiang/Research/MPCD/dataset/HSSMS/MoleculeACE_benchmark/space/info/CHEMBL204_Ki.html"
      ]
     },
     "metadata": {},
     "output_type": "display_data"
    },
    {
     "name": "stderr",
     "output_type": "stream",
     "text": [
      "100%|############################################################################| 1052/1052 [00:00<00:00, 47957.83it/s]\n"
     ]
    },
    {
     "data": {
      "text/html": [
       "\n",
       "        <iframe\n",
       "            width=\"100%\"\n",
       "            height=\"750\"\n",
       "            src=\"./info/CHEMBL238_Ki.html\"\n",
       "            frameborder=\"0\"\n",
       "            allowfullscreen\n",
       "            \n",
       "        ></iframe>\n",
       "        "
      ],
      "text/plain": [
       "<IPython.lib.display.IFrame at 0x7f17b059b4f0>"
      ]
     },
     "metadata": {},
     "output_type": "display_data"
    },
    {
     "data": {
      "text/html": [
       "<a href='./info/CHEMBL238_Ki.html' target='_blank'>./info/CHEMBL238_Ki.html</a><br>"
      ],
      "text/plain": [
       "/home/shenwanxiang/Research/MPCD/dataset/HSSMS/MoleculeACE_benchmark/space/info/CHEMBL238_Ki.html"
      ]
     },
     "metadata": {},
     "output_type": "display_data"
    },
    {
     "name": "stderr",
     "output_type": "stream",
     "text": [
      "100%|############################################################################| 3657/3657 [00:00<00:00, 37433.15it/s]\n"
     ]
    },
    {
     "data": {
      "text/html": [
       "\n",
       "        <iframe\n",
       "            width=\"100%\"\n",
       "            height=\"750\"\n",
       "            src=\"./info/CHEMBL234_Ki.html\"\n",
       "            frameborder=\"0\"\n",
       "            allowfullscreen\n",
       "            \n",
       "        ></iframe>\n",
       "        "
      ],
      "text/plain": [
       "<IPython.lib.display.IFrame at 0x7f17b0679b20>"
      ]
     },
     "metadata": {},
     "output_type": "display_data"
    },
    {
     "data": {
      "text/html": [
       "<a href='./info/CHEMBL234_Ki.html' target='_blank'>./info/CHEMBL234_Ki.html</a><br>"
      ],
      "text/plain": [
       "/home/shenwanxiang/Research/MPCD/dataset/HSSMS/MoleculeACE_benchmark/space/info/CHEMBL234_Ki.html"
      ]
     },
     "metadata": {},
     "output_type": "display_data"
    },
    {
     "name": "stderr",
     "output_type": "stream",
     "text": [
      "100%|############################################################################| 1704/1704 [00:00<00:00, 43993.22it/s]\n"
     ]
    },
    {
     "data": {
      "text/html": [
       "\n",
       "        <iframe\n",
       "            width=\"100%\"\n",
       "            height=\"750\"\n",
       "            src=\"./info/CHEMBL228_Ki.html\"\n",
       "            frameborder=\"0\"\n",
       "            allowfullscreen\n",
       "            \n",
       "        ></iframe>\n",
       "        "
      ],
      "text/plain": [
       "<IPython.lib.display.IFrame at 0x7f17b8476a30>"
      ]
     },
     "metadata": {},
     "output_type": "display_data"
    },
    {
     "data": {
      "text/html": [
       "<a href='./info/CHEMBL228_Ki.html' target='_blank'>./info/CHEMBL228_Ki.html</a><br>"
      ],
      "text/plain": [
       "/home/shenwanxiang/Research/MPCD/dataset/HSSMS/MoleculeACE_benchmark/space/info/CHEMBL228_Ki.html"
      ]
     },
     "metadata": {},
     "output_type": "display_data"
    },
    {
     "name": "stderr",
     "output_type": "stream",
     "text": [
      "100%|##############################################################################| 955/955 [00:00<00:00, 29984.43it/s]\n"
     ]
    },
    {
     "data": {
      "text/html": [
       "\n",
       "        <iframe\n",
       "            width=\"100%\"\n",
       "            height=\"750\"\n",
       "            src=\"./info/CHEMBL237_EC50.html\"\n",
       "            frameborder=\"0\"\n",
       "            allowfullscreen\n",
       "            \n",
       "        ></iframe>\n",
       "        "
      ],
      "text/plain": [
       "<IPython.lib.display.IFrame at 0x7f17c9dc6d30>"
      ]
     },
     "metadata": {},
     "output_type": "display_data"
    },
    {
     "data": {
      "text/html": [
       "<a href='./info/CHEMBL237_EC50.html' target='_blank'>./info/CHEMBL237_EC50.html</a><br>"
      ],
      "text/plain": [
       "/home/shenwanxiang/Research/MPCD/dataset/HSSMS/MoleculeACE_benchmark/space/info/CHEMBL237_EC50.html"
      ]
     },
     "metadata": {},
     "output_type": "display_data"
    },
    {
     "name": "stderr",
     "output_type": "stream",
     "text": [
      "100%|############################################################################| 2862/2862 [00:00<00:00, 44000.39it/s]\n"
     ]
    },
    {
     "data": {
      "text/html": [
       "\n",
       "        <iframe\n",
       "            width=\"100%\"\n",
       "            height=\"750\"\n",
       "            src=\"./info/CHEMBL264_Ki.html\"\n",
       "            frameborder=\"0\"\n",
       "            allowfullscreen\n",
       "            \n",
       "        ></iframe>\n",
       "        "
      ],
      "text/plain": [
       "<IPython.lib.display.IFrame at 0x7f17b0598550>"
      ]
     },
     "metadata": {},
     "output_type": "display_data"
    },
    {
     "data": {
      "text/html": [
       "<a href='./info/CHEMBL264_Ki.html' target='_blank'>./info/CHEMBL264_Ki.html</a><br>"
      ],
      "text/plain": [
       "/home/shenwanxiang/Research/MPCD/dataset/HSSMS/MoleculeACE_benchmark/space/info/CHEMBL264_Ki.html"
      ]
     },
     "metadata": {},
     "output_type": "display_data"
    },
    {
     "name": "stderr",
     "output_type": "stream",
     "text": [
      "100%|############################################################################| 2598/2598 [00:00<00:00, 26263.75it/s]\n"
     ]
    },
    {
     "data": {
      "text/html": [
       "\n",
       "        <iframe\n",
       "            width=\"100%\"\n",
       "            height=\"750\"\n",
       "            src=\"./info/CHEMBL236_Ki.html\"\n",
       "            frameborder=\"0\"\n",
       "            allowfullscreen\n",
       "            \n",
       "        ></iframe>\n",
       "        "
      ],
      "text/plain": [
       "<IPython.lib.display.IFrame at 0x7f17b0418a60>"
      ]
     },
     "metadata": {},
     "output_type": "display_data"
    },
    {
     "data": {
      "text/html": [
       "<a href='./info/CHEMBL236_Ki.html' target='_blank'>./info/CHEMBL236_Ki.html</a><br>"
      ],
      "text/plain": [
       "/home/shenwanxiang/Research/MPCD/dataset/HSSMS/MoleculeACE_benchmark/space/info/CHEMBL236_Ki.html"
      ]
     },
     "metadata": {},
     "output_type": "display_data"
    },
    {
     "name": "stderr",
     "output_type": "stream",
     "text": [
      "100%|############################################################################| 3097/3097 [00:00<00:00, 30611.03it/s]\n"
     ]
    },
    {
     "data": {
      "text/html": [
       "\n",
       "        <iframe\n",
       "            width=\"100%\"\n",
       "            height=\"750\"\n",
       "            src=\"./info/CHEMBL244_Ki.html\"\n",
       "            frameborder=\"0\"\n",
       "            allowfullscreen\n",
       "            \n",
       "        ></iframe>\n",
       "        "
      ],
      "text/plain": [
       "<IPython.lib.display.IFrame at 0x7f17b0242a30>"
      ]
     },
     "metadata": {},
     "output_type": "display_data"
    },
    {
     "data": {
      "text/html": [
       "<a href='./info/CHEMBL244_Ki.html' target='_blank'>./info/CHEMBL244_Ki.html</a><br>"
      ],
      "text/plain": [
       "/home/shenwanxiang/Research/MPCD/dataset/HSSMS/MoleculeACE_benchmark/space/info/CHEMBL244_Ki.html"
      ]
     },
     "metadata": {},
     "output_type": "display_data"
    },
    {
     "name": "stderr",
     "output_type": "stream",
     "text": [
      "100%|############################################################################| 2602/2602 [00:00<00:00, 29991.34it/s]\n"
     ]
    },
    {
     "data": {
      "text/html": [
       "\n",
       "        <iframe\n",
       "            width=\"100%\"\n",
       "            height=\"750\"\n",
       "            src=\"./info/CHEMBL237_Ki.html\"\n",
       "            frameborder=\"0\"\n",
       "            allowfullscreen\n",
       "            \n",
       "        ></iframe>\n",
       "        "
      ],
      "text/plain": [
       "<IPython.lib.display.IFrame at 0x7f17b033f910>"
      ]
     },
     "metadata": {},
     "output_type": "display_data"
    },
    {
     "data": {
      "text/html": [
       "<a href='./info/CHEMBL237_Ki.html' target='_blank'>./info/CHEMBL237_Ki.html</a><br>"
      ],
      "text/plain": [
       "/home/shenwanxiang/Research/MPCD/dataset/HSSMS/MoleculeACE_benchmark/space/info/CHEMBL237_Ki.html"
      ]
     },
     "metadata": {},
     "output_type": "display_data"
    },
    {
     "name": "stderr",
     "output_type": "stream",
     "text": [
      "100%|##############################################################################| 682/682 [00:00<00:00, 25402.64it/s]\n"
     ]
    },
    {
     "data": {
      "text/html": [
       "\n",
       "        <iframe\n",
       "            width=\"100%\"\n",
       "            height=\"750\"\n",
       "            src=\"./info/CHEMBL4616_EC50.html\"\n",
       "            frameborder=\"0\"\n",
       "            allowfullscreen\n",
       "            \n",
       "        ></iframe>\n",
       "        "
      ],
      "text/plain": [
       "<IPython.lib.display.IFrame at 0x7f17b0598550>"
      ]
     },
     "metadata": {},
     "output_type": "display_data"
    },
    {
     "data": {
      "text/html": [
       "<a href='./info/CHEMBL4616_EC50.html' target='_blank'>./info/CHEMBL4616_EC50.html</a><br>"
      ],
      "text/plain": [
       "/home/shenwanxiang/Research/MPCD/dataset/HSSMS/MoleculeACE_benchmark/space/info/CHEMBL4616_EC50.html"
      ]
     },
     "metadata": {},
     "output_type": "display_data"
    },
    {
     "name": "stderr",
     "output_type": "stream",
     "text": [
      "100%|##############################################################################| 794/794 [00:00<00:00, 43129.37it/s]\n"
     ]
    },
    {
     "data": {
      "text/html": [
       "\n",
       "        <iframe\n",
       "            width=\"100%\"\n",
       "            height=\"750\"\n",
       "            src=\"./info/CHEMBL1862_Ki.html\"\n",
       "            frameborder=\"0\"\n",
       "            allowfullscreen\n",
       "            \n",
       "        ></iframe>\n",
       "        "
      ],
      "text/plain": [
       "<IPython.lib.display.IFrame at 0x7f17b8492f70>"
      ]
     },
     "metadata": {},
     "output_type": "display_data"
    },
    {
     "data": {
      "text/html": [
       "<a href='./info/CHEMBL1862_Ki.html' target='_blank'>./info/CHEMBL1862_Ki.html</a><br>"
      ],
      "text/plain": [
       "/home/shenwanxiang/Research/MPCD/dataset/HSSMS/MoleculeACE_benchmark/space/info/CHEMBL1862_Ki.html"
      ]
     },
     "metadata": {},
     "output_type": "display_data"
    },
    {
     "name": "stderr",
     "output_type": "stream",
     "text": [
      "100%|##############################################################################| 615/615 [00:00<00:00, 28478.50it/s]\n"
     ]
    },
    {
     "data": {
      "text/html": [
       "\n",
       "        <iframe\n",
       "            width=\"100%\"\n",
       "            height=\"750\"\n",
       "            src=\"./info/CHEMBL2835_Ki.html\"\n",
       "            frameborder=\"0\"\n",
       "            allowfullscreen\n",
       "            \n",
       "        ></iframe>\n",
       "        "
      ],
      "text/plain": [
       "<IPython.lib.display.IFrame at 0x7f17b83a5f10>"
      ]
     },
     "metadata": {},
     "output_type": "display_data"
    },
    {
     "data": {
      "text/html": [
       "<a href='./info/CHEMBL2835_Ki.html' target='_blank'>./info/CHEMBL2835_Ki.html</a><br>"
      ],
      "text/plain": [
       "/home/shenwanxiang/Research/MPCD/dataset/HSSMS/MoleculeACE_benchmark/space/info/CHEMBL2835_Ki.html"
      ]
     },
     "metadata": {},
     "output_type": "display_data"
    }
   ],
   "source": [
    "csvs = glob('../*.csv')\n",
    "dim = 2048\n",
    "data_save_folder = './info'\n",
    "\n",
    "for csv in csvs:\n",
    "    df = pd.read_csv(csv)\n",
    "\n",
    "\n",
    "    df.index = df.index.astype(str)\n",
    "    task_name = os.path.basename(csv).replace('.csv', '')\n",
    "    smiles_list = df['smiles'].to_list()\n",
    "\n",
    "\n",
    "\n",
    "    def rtuple(x):\n",
    "        d = pd.Series(x).reset_index().set_index(0)['index'].to_dict()\n",
    "        return [(k, v) for k, v in d.items()]\n",
    "\n",
    "    md1 = {'Yes':1, 'No':0}\n",
    "    md2 = {'train':1, 'test':0}\n",
    "    pair_key1 = rtuple(md1)\n",
    "    pair_key2 = rtuple(md2)\n",
    "\n",
    "    df['subgroup1'] = df.cliff_mol\n",
    "    df['subgroup2'] = df.split.map(md2)\n",
    "\n",
    "\n",
    "    mols = [Chem.MolFromSmiles(s) for s in smiles_list]\n",
    "    ECFP4_fps = [AllChem.GetMorganFingerprintAsBitVect(x,2,dim) for x in tqdm(mols, ascii=True)]\n",
    "    ecfps = [tmap.VectorUchar(list(fp)) for fp in ECFP4_fps]\n",
    "    enc = tmap.Minhash(dim,seed = 42)\n",
    "    lf = tmap.LSHForest(dim)\n",
    "    lf.batch_add(enc.batch_from_binary_array(ecfps))\n",
    "    lf.index()\n",
    "\n",
    "    cfg = tmap.LayoutConfiguration()\n",
    "    cfg.k = 50\n",
    "    cfg.kc = 50\n",
    "    cfg.sl_scaling_min = 1.0\n",
    "    cfg.sl_scaling_max = 1.0\n",
    "    cfg.sl_repeats = 1\n",
    "    cfg.sl_extra_scaling_steps = 2\n",
    "    cfg.placer = tmap.Placer.Barycenter\n",
    "    cfg.merger = tmap.Merger.LocalBiconnected\n",
    "    cfg.merger_factor = 2.0\n",
    "    cfg.merger_adjustment = 0\n",
    "    cfg.fme_iterations = 800\n",
    "    cfg.sl_scaling_type = tmap.ScalingType.RelativeToDesiredLength\n",
    "    cfg.node_size = 1 / 2\n",
    "    cfg.mmm_repeats = 1\n",
    "    x, y, s, t, gp = tmap.layout_from_lsh_forest(lf, config = cfg)\n",
    "\n",
    "    #======================================================\n",
    "\n",
    "    c1 = df['y'].round(3)\n",
    "    c2 = df['subgroup1']\n",
    "    c3 = df['subgroup2']\n",
    "\n",
    "    c = [c1, c2, c3] #具体的属性数据\n",
    "\n",
    "    series_title = ['pActivity',  'cliff_mol',  'split'] ##具体的属性数据名称\n",
    "\n",
    "\n",
    "    categorical = [False, True, True]\n",
    "\n",
    "    cmap = ['jet_r', 'tab10', 'Set1']\n",
    "\n",
    "    min_legend_label= [str(c1.min()), None,  None]\n",
    "    max_legend_label= [str(c1.max()), None, None]\n",
    "\n",
    "    labels = (df['smiles'] + \"__\" + df.index + \"__\" \n",
    "              + task_name + ': ' + df['exp_mean [nM]'].astype(str) + ' nM').tolist() #显示smiles， 以及图片中的标签\n",
    "\n",
    "    point_scale = 10\n",
    "\n",
    "    legend_labels = [None, pair_key1, pair_key2]\n",
    "    #========================================================\n",
    "\n",
    "\n",
    "    faerun = Faerun(view=\"front\", clear_color='#111111',coords=False) #'#ffffff'\n",
    "    faerun.add_scatter(task_name, { \"x\": x, \"y\": y, \n",
    "                                  \"c\": c, \"labels\": labels},\n",
    "                       legend_labels = legend_labels,\n",
    "                       categorical = categorical,\n",
    "                       max_legend_label = max_legend_label,\n",
    "                       min_legend_label = min_legend_label,\n",
    "                       point_scale=point_scale,\n",
    "                       colormap = cmap,\n",
    "                       has_legend=True,\n",
    "                       series_title = series_title,\n",
    "                       shader = 'smoothCircle') #\"sphere\", #\n",
    "\n",
    "    faerun.add_tree(task_name + \"_tree\", {\"from\": s, \"to\": t}, point_helper=task_name,  color='#666666', ) #colors when no value\n",
    "\n",
    "    # Choose the \"smiles\" template to display structure on hover\n",
    "    faerun.plot(task_name, path = data_save_folder, template=\"smiles\", notebook_height=750)"
   ]
  },
  {
   "cell_type": "code",
   "execution_count": null,
   "id": "5c51cb42-52cf-496a-bbd2-26577073f654",
   "metadata": {},
   "outputs": [],
   "source": []
  }
 ],
 "metadata": {
  "kernelspec": {
   "display_name": "Python 3 (ipykernel)",
   "language": "python",
   "name": "python3"
  },
  "language_info": {
   "codemirror_mode": {
    "name": "ipython",
    "version": 3
   },
   "file_extension": ".py",
   "mimetype": "text/x-python",
   "name": "python",
   "nbconvert_exporter": "python",
   "pygments_lexer": "ipython3",
   "version": "3.9.7"
  }
 },
 "nbformat": 4,
 "nbformat_minor": 5
}
