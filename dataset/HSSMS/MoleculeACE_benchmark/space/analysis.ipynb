{
 "cells": [
  {
   "cell_type": "code",
   "execution_count": 1,
   "id": "42964008-4130-4c0f-9544-55f04ff5f9f2",
   "metadata": {},
   "outputs": [],
   "source": [
    "import pandas as pd\n",
    "from rdkit.Chem import AllChem\n",
    "from rdkit import Chem\n",
    "from rdkit.Chem.Scaffolds import MurckoScaffold, rdScaffoldNetwork\n",
    "from rdkit.Chem import rdFMCS \n",
    "from rdkit import DataStructs, Chem\n",
    "from scipy.spatial.distance import squareform, cdist, pdist\n",
    "from scipy.cluster.hierarchy import fcluster, linkage, dendrogram\n",
    "import matplotlib.pylab as plt\n",
    "import numpy as np\n",
    "import pandas as pd\n",
    "from rdkit.Chem.Scaffolds.MurckoScaffold import MurckoScaffoldSmilesFromSmiles\n",
    "import tmap\n",
    "from faerun import Faerun\n",
    "from tqdm import tqdm\n",
    "from glob import glob\n",
    "import os\n",
    "\n",
    "\n",
    "import seaborn as sns\n",
    "\n",
    "sns.set(style = 'white', font_scale=2)\n"
   ]
  },
  {
   "cell_type": "code",
   "execution_count": 2,
   "id": "188a9267-1672-4b69-8811-7b17cf0955d6",
   "metadata": {},
   "outputs": [],
   "source": [
    "def _calc_ecfp4(smiles):\n",
    "    ecfp4 = AllChem.GetMorganFingerprint(Chem.MolFromSmiles(smiles), radius = 2)    \n",
    "    return ecfp4\n",
    "\n",
    "def pairwise_dist_tanimoto(smiles_list):    \n",
    "    MorganFP_list = [_calc_ecfp4(i) for i in smiles_list]\n",
    "    TanimotoDist =[]   \n",
    "    for i, fp1 in enumerate(MorganFP_list):\n",
    "        for fp2 in MorganFP_list[i+1:]:\n",
    "            s = DataStructs.TanimotoSimilarity(fp1,fp2)\n",
    "            #Available similarity metrics include Tanimoto, Dice, \n",
    "            # Cosine, Sokal, Russel, Kulczynski, McConnaughey, and Tversky\n",
    "            d = 1. - s #distance\n",
    "            TanimotoDist.append(d)\n",
    "    dist_matrix = squareform(TanimotoDist)\n",
    "\n",
    "    return dist_matrix\n",
    "\n",
    "def get_core_fw(smi):\n",
    "    mol = Chem.MolFromSmiles(smi)\n",
    "    core = MurckoScaffold.GetScaffoldForMol(mol)\n",
    "    fw = MurckoScaffold.MakeScaffoldGeneric(core)\n",
    "    return Chem.MolToSmiles(core), Chem.MolToSmiles(fw)\n",
    "\n",
    "def get_mcs(mols):\n",
    "    scd = rdFMCS.FindMCS(mols, completeRingsOnly=True,)\n",
    "    sc = Chem.MolFromSmarts(scd.smartsString)\n",
    "    ##get matched\n",
    "    # mol = mols[0]\n",
    "    # match_aidx = mol.GetSubstructMatches(sc)\n",
    "    # frag = AllChem.MolFragmentToSmarts(mol, match_aidx[0])\n",
    "    return sc\n"
   ]
  },
  {
   "cell_type": "code",
   "execution_count": 4,
   "id": "fde2cdd3-5852-4798-9c19-2599dd947d27",
   "metadata": {
    "collapsed": true,
    "jupyter": {
     "outputs_hidden": true
    },
    "tags": []
   },
   "outputs": [
    {
     "name": "stderr",
     "output_type": "stream",
     "text": [
      "100%|###########################################################################################################| 1721/1721 [00:00<00:00, 28470.78it/s]\n"
     ]
    },
    {
     "data": {
      "text/html": [
       "\n",
       "        <iframe\n",
       "            width=\"100%\"\n",
       "            height=\"750\"\n",
       "            src=\"./info/CHEMBL239_EC50.html\"\n",
       "            frameborder=\"0\"\n",
       "            allowfullscreen\n",
       "            \n",
       "        ></iframe>\n",
       "        "
      ],
      "text/plain": [
       "<IPython.lib.display.IFrame at 0x7f6c4410dca0>"
      ]
     },
     "metadata": {},
     "output_type": "display_data"
    },
    {
     "data": {
      "text/html": [
       "<a href='./info/CHEMBL239_EC50.html' target='_blank'>./info/CHEMBL239_EC50.html</a><br>"
      ],
      "text/plain": [
       "/home/shenwanxiang/Research/MPCD/dataset/HSSMS/MoleculeACE_benchmark/space/info/CHEMBL239_EC50.html"
      ]
     },
     "metadata": {},
     "output_type": "display_data"
    },
    {
     "name": "stderr",
     "output_type": "stream",
     "text": [
      "100%|###########################################################################################################| 1865/1865 [00:00<00:00, 32555.53it/s]\n"
     ]
    },
    {
     "data": {
      "text/html": [
       "\n",
       "        <iframe\n",
       "            width=\"100%\"\n",
       "            height=\"750\"\n",
       "            src=\"./info/CHEMBL219_Ki.html\"\n",
       "            frameborder=\"0\"\n",
       "            allowfullscreen\n",
       "            \n",
       "        ></iframe>\n",
       "        "
      ],
      "text/plain": [
       "<IPython.lib.display.IFrame at 0x7f6c441b8fd0>"
      ]
     },
     "metadata": {},
     "output_type": "display_data"
    },
    {
     "data": {
      "text/html": [
       "<a href='./info/CHEMBL219_Ki.html' target='_blank'>./info/CHEMBL219_Ki.html</a><br>"
      ],
      "text/plain": [
       "/home/shenwanxiang/Research/MPCD/dataset/HSSMS/MoleculeACE_benchmark/space/info/CHEMBL219_Ki.html"
      ]
     },
     "metadata": {},
     "output_type": "display_data"
    },
    {
     "name": "stderr",
     "output_type": "stream",
     "text": [
      "100%|#############################################################################################################| 976/976 [00:00<00:00, 25542.15it/s]\n"
     ]
    },
    {
     "data": {
      "text/html": [
       "\n",
       "        <iframe\n",
       "            width=\"100%\"\n",
       "            height=\"750\"\n",
       "            src=\"./info/CHEMBL2971_Ki.html\"\n",
       "            frameborder=\"0\"\n",
       "            allowfullscreen\n",
       "            \n",
       "        ></iframe>\n",
       "        "
      ],
      "text/plain": [
       "<IPython.lib.display.IFrame at 0x7f6c45ac5340>"
      ]
     },
     "metadata": {},
     "output_type": "display_data"
    },
    {
     "data": {
      "text/html": [
       "<a href='./info/CHEMBL2971_Ki.html' target='_blank'>./info/CHEMBL2971_Ki.html</a><br>"
      ],
      "text/plain": [
       "/home/shenwanxiang/Research/MPCD/dataset/HSSMS/MoleculeACE_benchmark/space/info/CHEMBL2971_Ki.html"
      ]
     },
     "metadata": {},
     "output_type": "display_data"
    },
    {
     "name": "stderr",
     "output_type": "stream",
     "text": [
      "100%|###########################################################################################################| 1456/1456 [00:00<00:00, 33168.08it/s]\n"
     ]
    },
    {
     "data": {
      "text/html": [
       "\n",
       "        <iframe\n",
       "            width=\"100%\"\n",
       "            height=\"750\"\n",
       "            src=\"./info/CHEMBL2147_Ki.html\"\n",
       "            frameborder=\"0\"\n",
       "            allowfullscreen\n",
       "            \n",
       "        ></iframe>\n",
       "        "
      ],
      "text/plain": [
       "<IPython.lib.display.IFrame at 0x7f6c44197e20>"
      ]
     },
     "metadata": {},
     "output_type": "display_data"
    },
    {
     "data": {
      "text/html": [
       "<a href='./info/CHEMBL2147_Ki.html' target='_blank'>./info/CHEMBL2147_Ki.html</a><br>"
      ],
      "text/plain": [
       "/home/shenwanxiang/Research/MPCD/dataset/HSSMS/MoleculeACE_benchmark/space/info/CHEMBL2147_Ki.html"
      ]
     },
     "metadata": {},
     "output_type": "display_data"
    },
    {
     "name": "stderr",
     "output_type": "stream",
     "text": [
      "100%|#############################################################################################################| 973/973 [00:00<00:00, 30867.53it/s]\n"
     ]
    },
    {
     "data": {
      "text/html": [
       "\n",
       "        <iframe\n",
       "            width=\"100%\"\n",
       "            height=\"750\"\n",
       "            src=\"./info/CHEMBL231_Ki.html\"\n",
       "            frameborder=\"0\"\n",
       "            allowfullscreen\n",
       "            \n",
       "        ></iframe>\n",
       "        "
      ],
      "text/plain": [
       "<IPython.lib.display.IFrame at 0x7f6c46e1b700>"
      ]
     },
     "metadata": {},
     "output_type": "display_data"
    },
    {
     "data": {
      "text/html": [
       "<a href='./info/CHEMBL231_Ki.html' target='_blank'>./info/CHEMBL231_Ki.html</a><br>"
      ],
      "text/plain": [
       "/home/shenwanxiang/Research/MPCD/dataset/HSSMS/MoleculeACE_benchmark/space/info/CHEMBL231_Ki.html"
      ]
     },
     "metadata": {},
     "output_type": "display_data"
    },
    {
     "name": "stderr",
     "output_type": "stream",
     "text": [
      "100%|#############################################################################################################| 631/631 [00:00<00:00, 26807.59it/s]\n"
     ]
    },
    {
     "data": {
      "text/html": [
       "\n",
       "        <iframe\n",
       "            width=\"100%\"\n",
       "            height=\"750\"\n",
       "            src=\"./info/CHEMBL2047_EC50.html\"\n",
       "            frameborder=\"0\"\n",
       "            allowfullscreen\n",
       "            \n",
       "        ></iframe>\n",
       "        "
      ],
      "text/plain": [
       "<IPython.lib.display.IFrame at 0x7f6c46344700>"
      ]
     },
     "metadata": {},
     "output_type": "display_data"
    },
    {
     "data": {
      "text/html": [
       "<a href='./info/CHEMBL2047_EC50.html' target='_blank'>./info/CHEMBL2047_EC50.html</a><br>"
      ],
      "text/plain": [
       "/home/shenwanxiang/Research/MPCD/dataset/HSSMS/MoleculeACE_benchmark/space/info/CHEMBL2047_EC50.html"
      ]
     },
     "metadata": {},
     "output_type": "display_data"
    },
    {
     "name": "stderr",
     "output_type": "stream",
     "text": [
      "100%|#############################################################################################################| 750/750 [00:00<00:00, 28010.33it/s]\n"
     ]
    },
    {
     "data": {
      "text/html": [
       "\n",
       "        <iframe\n",
       "            width=\"100%\"\n",
       "            height=\"750\"\n",
       "            src=\"./info/CHEMBL2034_Ki.html\"\n",
       "            frameborder=\"0\"\n",
       "            allowfullscreen\n",
       "            \n",
       "        ></iframe>\n",
       "        "
      ],
      "text/plain": [
       "<IPython.lib.display.IFrame at 0x7f6c45aaf9a0>"
      ]
     },
     "metadata": {},
     "output_type": "display_data"
    },
    {
     "data": {
      "text/html": [
       "<a href='./info/CHEMBL2034_Ki.html' target='_blank'>./info/CHEMBL2034_Ki.html</a><br>"
      ],
      "text/plain": [
       "/home/shenwanxiang/Research/MPCD/dataset/HSSMS/MoleculeACE_benchmark/space/info/CHEMBL2034_Ki.html"
      ]
     },
     "metadata": {},
     "output_type": "display_data"
    },
    {
     "name": "stderr",
     "output_type": "stream",
     "text": [
      "100%|#############################################################################################################| 731/731 [00:00<00:00, 36858.04it/s]\n"
     ]
    },
    {
     "data": {
      "text/html": [
       "\n",
       "        <iframe\n",
       "            width=\"100%\"\n",
       "            height=\"750\"\n",
       "            src=\"./info/CHEMBL4203_Ki.html\"\n",
       "            frameborder=\"0\"\n",
       "            allowfullscreen\n",
       "            \n",
       "        ></iframe>\n",
       "        "
      ],
      "text/plain": [
       "<IPython.lib.display.IFrame at 0x7f6c45ae3280>"
      ]
     },
     "metadata": {},
     "output_type": "display_data"
    },
    {
     "data": {
      "text/html": [
       "<a href='./info/CHEMBL4203_Ki.html' target='_blank'>./info/CHEMBL4203_Ki.html</a><br>"
      ],
      "text/plain": [
       "/home/shenwanxiang/Research/MPCD/dataset/HSSMS/MoleculeACE_benchmark/space/info/CHEMBL4203_Ki.html"
      ]
     },
     "metadata": {},
     "output_type": "display_data"
    },
    {
     "name": "stderr",
     "output_type": "stream",
     "text": [
      "100%|###########################################################################################################| 1471/1471 [00:00<00:00, 29142.66it/s]\n"
     ]
    },
    {
     "data": {
      "text/html": [
       "\n",
       "        <iframe\n",
       "            width=\"100%\"\n",
       "            height=\"750\"\n",
       "            src=\"./info/CHEMBL4792_Ki.html\"\n",
       "            frameborder=\"0\"\n",
       "            allowfullscreen\n",
       "            \n",
       "        ></iframe>\n",
       "        "
      ],
      "text/plain": [
       "<IPython.lib.display.IFrame at 0x7f6c45ac5b50>"
      ]
     },
     "metadata": {},
     "output_type": "display_data"
    },
    {
     "data": {
      "text/html": [
       "<a href='./info/CHEMBL4792_Ki.html' target='_blank'>./info/CHEMBL4792_Ki.html</a><br>"
      ],
      "text/plain": [
       "/home/shenwanxiang/Research/MPCD/dataset/HSSMS/MoleculeACE_benchmark/space/info/CHEMBL4792_Ki.html"
      ]
     },
     "metadata": {},
     "output_type": "display_data"
    },
    {
     "name": "stderr",
     "output_type": "stream",
     "text": [
      "100%|###########################################################################################################| 3142/3142 [00:00<00:00, 23894.14it/s]\n"
     ]
    },
    {
     "data": {
      "text/html": [
       "\n",
       "        <iframe\n",
       "            width=\"100%\"\n",
       "            height=\"750\"\n",
       "            src=\"./info/CHEMBL233_Ki.html\"\n",
       "            frameborder=\"0\"\n",
       "            allowfullscreen\n",
       "            \n",
       "        ></iframe>\n",
       "        "
      ],
      "text/plain": [
       "<IPython.lib.display.IFrame at 0x7f6c46e1b8e0>"
      ]
     },
     "metadata": {},
     "output_type": "display_data"
    },
    {
     "data": {
      "text/html": [
       "<a href='./info/CHEMBL233_Ki.html' target='_blank'>./info/CHEMBL233_Ki.html</a><br>"
      ],
      "text/plain": [
       "/home/shenwanxiang/Research/MPCD/dataset/HSSMS/MoleculeACE_benchmark/space/info/CHEMBL233_Ki.html"
      ]
     },
     "metadata": {},
     "output_type": "display_data"
    },
    {
     "name": "stderr",
     "output_type": "stream",
     "text": [
      "100%|###########################################################################################################| 1125/1125 [00:00<00:00, 26708.81it/s]\n"
     ]
    },
    {
     "data": {
      "text/html": [
       "\n",
       "        <iframe\n",
       "            width=\"100%\"\n",
       "            height=\"750\"\n",
       "            src=\"./info/CHEMBL3979_EC50.html\"\n",
       "            frameborder=\"0\"\n",
       "            allowfullscreen\n",
       "            \n",
       "        ></iframe>\n",
       "        "
      ],
      "text/plain": [
       "<IPython.lib.display.IFrame at 0x7f6c45aaf580>"
      ]
     },
     "metadata": {},
     "output_type": "display_data"
    },
    {
     "data": {
      "text/html": [
       "<a href='./info/CHEMBL3979_EC50.html' target='_blank'>./info/CHEMBL3979_EC50.html</a><br>"
      ],
      "text/plain": [
       "/home/shenwanxiang/Research/MPCD/dataset/HSSMS/MoleculeACE_benchmark/space/info/CHEMBL3979_EC50.html"
      ]
     },
     "metadata": {},
     "output_type": "display_data"
    },
    {
     "name": "stderr",
     "output_type": "stream",
     "text": [
      "100%|###########################################################################################################| 1328/1328 [00:00<00:00, 37792.42it/s]\n"
     ]
    },
    {
     "data": {
      "text/html": [
       "\n",
       "        <iframe\n",
       "            width=\"100%\"\n",
       "            height=\"750\"\n",
       "            src=\"./info/CHEMBL287_Ki.html\"\n",
       "            frameborder=\"0\"\n",
       "            allowfullscreen\n",
       "            \n",
       "        ></iframe>\n",
       "        "
      ],
      "text/plain": [
       "<IPython.lib.display.IFrame at 0x7f6c46375430>"
      ]
     },
     "metadata": {},
     "output_type": "display_data"
    },
    {
     "data": {
      "text/html": [
       "<a href='./info/CHEMBL287_Ki.html' target='_blank'>./info/CHEMBL287_Ki.html</a><br>"
      ],
      "text/plain": [
       "/home/shenwanxiang/Research/MPCD/dataset/HSSMS/MoleculeACE_benchmark/space/info/CHEMBL287_Ki.html"
      ]
     },
     "metadata": {},
     "output_type": "display_data"
    },
    {
     "name": "stderr",
     "output_type": "stream",
     "text": [
      "100%|#############################################################################################################| 659/659 [00:00<00:00, 23993.46it/s]\n"
     ]
    },
    {
     "data": {
      "text/html": [
       "\n",
       "        <iframe\n",
       "            width=\"100%\"\n",
       "            height=\"750\"\n",
       "            src=\"./info/CHEMBL1871_Ki.html\"\n",
       "            frameborder=\"0\"\n",
       "            allowfullscreen\n",
       "            \n",
       "        ></iframe>\n",
       "        "
      ],
      "text/plain": [
       "<IPython.lib.display.IFrame at 0x7f6c44197cd0>"
      ]
     },
     "metadata": {},
     "output_type": "display_data"
    },
    {
     "data": {
      "text/html": [
       "<a href='./info/CHEMBL1871_Ki.html' target='_blank'>./info/CHEMBL1871_Ki.html</a><br>"
      ],
      "text/plain": [
       "/home/shenwanxiang/Research/MPCD/dataset/HSSMS/MoleculeACE_benchmark/space/info/CHEMBL1871_Ki.html"
      ]
     },
     "metadata": {},
     "output_type": "display_data"
    },
    {
     "name": "stderr",
     "output_type": "stream",
     "text": [
      "100%|###########################################################################################################| 2349/2349 [00:00<00:00, 27103.95it/s]\n"
     ]
    },
    {
     "data": {
      "text/html": [
       "\n",
       "        <iframe\n",
       "            width=\"100%\"\n",
       "            height=\"750\"\n",
       "            src=\"./info/CHEMBL235_EC50.html\"\n",
       "            frameborder=\"0\"\n",
       "            allowfullscreen\n",
       "            \n",
       "        ></iframe>\n",
       "        "
      ],
      "text/plain": [
       "<IPython.lib.display.IFrame at 0x7f6c3c6a04c0>"
      ]
     },
     "metadata": {},
     "output_type": "display_data"
    },
    {
     "data": {
      "text/html": [
       "<a href='./info/CHEMBL235_EC50.html' target='_blank'>./info/CHEMBL235_EC50.html</a><br>"
      ],
      "text/plain": [
       "/home/shenwanxiang/Research/MPCD/dataset/HSSMS/MoleculeACE_benchmark/space/info/CHEMBL235_EC50.html"
      ]
     },
     "metadata": {},
     "output_type": "display_data"
    },
    {
     "name": "stderr",
     "output_type": "stream",
     "text": [
      "100%|###########################################################################################################| 1031/1031 [00:00<00:00, 27404.54it/s]\n"
     ]
    },
    {
     "data": {
      "text/html": [
       "\n",
       "        <iframe\n",
       "            width=\"100%\"\n",
       "            height=\"750\"\n",
       "            src=\"./info/CHEMBL218_EC50.html\"\n",
       "            frameborder=\"0\"\n",
       "            allowfullscreen\n",
       "            \n",
       "        ></iframe>\n",
       "        "
      ],
      "text/plain": [
       "<IPython.lib.display.IFrame at 0x7f6c46c8e6a0>"
      ]
     },
     "metadata": {},
     "output_type": "display_data"
    },
    {
     "data": {
      "text/html": [
       "<a href='./info/CHEMBL218_EC50.html' target='_blank'>./info/CHEMBL218_EC50.html</a><br>"
      ],
      "text/plain": [
       "/home/shenwanxiang/Research/MPCD/dataset/HSSMS/MoleculeACE_benchmark/space/info/CHEMBL218_EC50.html"
      ]
     },
     "metadata": {},
     "output_type": "display_data"
    },
    {
     "name": "stderr",
     "output_type": "stream",
     "text": [
      "100%|#############################################################################################################| 960/960 [00:00<00:00, 28277.20it/s]\n"
     ]
    },
    {
     "data": {
      "text/html": [
       "\n",
       "        <iframe\n",
       "            width=\"100%\"\n",
       "            height=\"750\"\n",
       "            src=\"./info/CHEMBL4005_Ki.html\"\n",
       "            frameborder=\"0\"\n",
       "            allowfullscreen\n",
       "            \n",
       "        ></iframe>\n",
       "        "
      ],
      "text/plain": [
       "<IPython.lib.display.IFrame at 0x7f6c4410cc10>"
      ]
     },
     "metadata": {},
     "output_type": "display_data"
    },
    {
     "data": {
      "text/html": [
       "<a href='./info/CHEMBL4005_Ki.html' target='_blank'>./info/CHEMBL4005_Ki.html</a><br>"
      ],
      "text/plain": [
       "/home/shenwanxiang/Research/MPCD/dataset/HSSMS/MoleculeACE_benchmark/space/info/CHEMBL4005_Ki.html"
      ]
     },
     "metadata": {},
     "output_type": "display_data"
    },
    {
     "name": "stderr",
     "output_type": "stream",
     "text": [
      "100%|###########################################################################################################| 3317/3317 [00:00<00:00, 30541.76it/s]\n"
     ]
    },
    {
     "data": {
      "text/html": [
       "\n",
       "        <iframe\n",
       "            width=\"100%\"\n",
       "            height=\"750\"\n",
       "            src=\"./info/CHEMBL214_Ki.html\"\n",
       "            frameborder=\"0\"\n",
       "            allowfullscreen\n",
       "            \n",
       "        ></iframe>\n",
       "        "
      ],
      "text/plain": [
       "<IPython.lib.display.IFrame at 0x7f6c45aaff70>"
      ]
     },
     "metadata": {},
     "output_type": "display_data"
    },
    {
     "data": {
      "text/html": [
       "<a href='./info/CHEMBL214_Ki.html' target='_blank'>./info/CHEMBL214_Ki.html</a><br>"
      ],
      "text/plain": [
       "/home/shenwanxiang/Research/MPCD/dataset/HSSMS/MoleculeACE_benchmark/space/info/CHEMBL214_Ki.html"
      ]
     },
     "metadata": {},
     "output_type": "display_data"
    },
    {
     "name": "stderr",
     "output_type": "stream",
     "text": [
      "100%|#############################################################################################################| 856/856 [00:00<00:00, 35290.94it/s]\n"
     ]
    },
    {
     "data": {
      "text/html": [
       "\n",
       "        <iframe\n",
       "            width=\"100%\"\n",
       "            height=\"750\"\n",
       "            src=\"./info/CHEMBL262_Ki.html\"\n",
       "            frameborder=\"0\"\n",
       "            allowfullscreen\n",
       "            \n",
       "        ></iframe>\n",
       "        "
      ],
      "text/plain": [
       "<IPython.lib.display.IFrame at 0x7f6c45ab6d00>"
      ]
     },
     "metadata": {},
     "output_type": "display_data"
    },
    {
     "data": {
      "text/html": [
       "<a href='./info/CHEMBL262_Ki.html' target='_blank'>./info/CHEMBL262_Ki.html</a><br>"
      ],
      "text/plain": [
       "/home/shenwanxiang/Research/MPCD/dataset/HSSMS/MoleculeACE_benchmark/space/info/CHEMBL262_Ki.html"
      ]
     },
     "metadata": {},
     "output_type": "display_data"
    },
    {
     "name": "stderr",
     "output_type": "stream",
     "text": [
      "100%|###########################################################################################################| 2754/2754 [00:00<00:00, 24056.60it/s]\n"
     ]
    },
    {
     "data": {
      "text/html": [
       "\n",
       "        <iframe\n",
       "            width=\"100%\"\n",
       "            height=\"750\"\n",
       "            src=\"./info/CHEMBL204_Ki.html\"\n",
       "            frameborder=\"0\"\n",
       "            allowfullscreen\n",
       "            \n",
       "        ></iframe>\n",
       "        "
      ],
      "text/plain": [
       "<IPython.lib.display.IFrame at 0x7f6c46344580>"
      ]
     },
     "metadata": {},
     "output_type": "display_data"
    },
    {
     "data": {
      "text/html": [
       "<a href='./info/CHEMBL204_Ki.html' target='_blank'>./info/CHEMBL204_Ki.html</a><br>"
      ],
      "text/plain": [
       "/home/shenwanxiang/Research/MPCD/dataset/HSSMS/MoleculeACE_benchmark/space/info/CHEMBL204_Ki.html"
      ]
     },
     "metadata": {},
     "output_type": "display_data"
    },
    {
     "name": "stderr",
     "output_type": "stream",
     "text": [
      "100%|###########################################################################################################| 1052/1052 [00:00<00:00, 37855.25it/s]\n"
     ]
    },
    {
     "data": {
      "text/html": [
       "\n",
       "        <iframe\n",
       "            width=\"100%\"\n",
       "            height=\"750\"\n",
       "            src=\"./info/CHEMBL238_Ki.html\"\n",
       "            frameborder=\"0\"\n",
       "            allowfullscreen\n",
       "            \n",
       "        ></iframe>\n",
       "        "
      ],
      "text/plain": [
       "<IPython.lib.display.IFrame at 0x7f6c45ae1af0>"
      ]
     },
     "metadata": {},
     "output_type": "display_data"
    },
    {
     "data": {
      "text/html": [
       "<a href='./info/CHEMBL238_Ki.html' target='_blank'>./info/CHEMBL238_Ki.html</a><br>"
      ],
      "text/plain": [
       "/home/shenwanxiang/Research/MPCD/dataset/HSSMS/MoleculeACE_benchmark/space/info/CHEMBL238_Ki.html"
      ]
     },
     "metadata": {},
     "output_type": "display_data"
    },
    {
     "name": "stderr",
     "output_type": "stream",
     "text": [
      "100%|###########################################################################################################| 3657/3657 [00:00<00:00, 29656.48it/s]\n"
     ]
    },
    {
     "data": {
      "text/html": [
       "\n",
       "        <iframe\n",
       "            width=\"100%\"\n",
       "            height=\"750\"\n",
       "            src=\"./info/CHEMBL234_Ki.html\"\n",
       "            frameborder=\"0\"\n",
       "            allowfullscreen\n",
       "            \n",
       "        ></iframe>\n",
       "        "
      ],
      "text/plain": [
       "<IPython.lib.display.IFrame at 0x7f6c46c9a9a0>"
      ]
     },
     "metadata": {},
     "output_type": "display_data"
    },
    {
     "data": {
      "text/html": [
       "<a href='./info/CHEMBL234_Ki.html' target='_blank'>./info/CHEMBL234_Ki.html</a><br>"
      ],
      "text/plain": [
       "/home/shenwanxiang/Research/MPCD/dataset/HSSMS/MoleculeACE_benchmark/space/info/CHEMBL234_Ki.html"
      ]
     },
     "metadata": {},
     "output_type": "display_data"
    },
    {
     "name": "stderr",
     "output_type": "stream",
     "text": [
      "100%|###########################################################################################################| 1704/1704 [00:00<00:00, 34591.53it/s]\n"
     ]
    },
    {
     "data": {
      "text/html": [
       "\n",
       "        <iframe\n",
       "            width=\"100%\"\n",
       "            height=\"750\"\n",
       "            src=\"./info/CHEMBL228_Ki.html\"\n",
       "            frameborder=\"0\"\n",
       "            allowfullscreen\n",
       "            \n",
       "        ></iframe>\n",
       "        "
      ],
      "text/plain": [
       "<IPython.lib.display.IFrame at 0x7f6c4410d850>"
      ]
     },
     "metadata": {},
     "output_type": "display_data"
    },
    {
     "data": {
      "text/html": [
       "<a href='./info/CHEMBL228_Ki.html' target='_blank'>./info/CHEMBL228_Ki.html</a><br>"
      ],
      "text/plain": [
       "/home/shenwanxiang/Research/MPCD/dataset/HSSMS/MoleculeACE_benchmark/space/info/CHEMBL228_Ki.html"
      ]
     },
     "metadata": {},
     "output_type": "display_data"
    },
    {
     "name": "stderr",
     "output_type": "stream",
     "text": [
      "100%|#############################################################################################################| 955/955 [00:00<00:00, 23651.02it/s]\n"
     ]
    },
    {
     "data": {
      "text/html": [
       "\n",
       "        <iframe\n",
       "            width=\"100%\"\n",
       "            height=\"750\"\n",
       "            src=\"./info/CHEMBL237_EC50.html\"\n",
       "            frameborder=\"0\"\n",
       "            allowfullscreen\n",
       "            \n",
       "        ></iframe>\n",
       "        "
      ],
      "text/plain": [
       "<IPython.lib.display.IFrame at 0x7f6c46e1dc70>"
      ]
     },
     "metadata": {},
     "output_type": "display_data"
    },
    {
     "data": {
      "text/html": [
       "<a href='./info/CHEMBL237_EC50.html' target='_blank'>./info/CHEMBL237_EC50.html</a><br>"
      ],
      "text/plain": [
       "/home/shenwanxiang/Research/MPCD/dataset/HSSMS/MoleculeACE_benchmark/space/info/CHEMBL237_EC50.html"
      ]
     },
     "metadata": {},
     "output_type": "display_data"
    },
    {
     "name": "stderr",
     "output_type": "stream",
     "text": [
      "100%|###########################################################################################################| 2862/2862 [00:00<00:00, 34833.97it/s]\n"
     ]
    },
    {
     "data": {
      "text/html": [
       "\n",
       "        <iframe\n",
       "            width=\"100%\"\n",
       "            height=\"750\"\n",
       "            src=\"./info/CHEMBL264_Ki.html\"\n",
       "            frameborder=\"0\"\n",
       "            allowfullscreen\n",
       "            \n",
       "        ></iframe>\n",
       "        "
      ],
      "text/plain": [
       "<IPython.lib.display.IFrame at 0x7f6c44218190>"
      ]
     },
     "metadata": {},
     "output_type": "display_data"
    },
    {
     "data": {
      "text/html": [
       "<a href='./info/CHEMBL264_Ki.html' target='_blank'>./info/CHEMBL264_Ki.html</a><br>"
      ],
      "text/plain": [
       "/home/shenwanxiang/Research/MPCD/dataset/HSSMS/MoleculeACE_benchmark/space/info/CHEMBL264_Ki.html"
      ]
     },
     "metadata": {},
     "output_type": "display_data"
    },
    {
     "name": "stderr",
     "output_type": "stream",
     "text": [
      "100%|###########################################################################################################| 2598/2598 [00:00<00:00, 21281.61it/s]\n"
     ]
    },
    {
     "data": {
      "text/html": [
       "\n",
       "        <iframe\n",
       "            width=\"100%\"\n",
       "            height=\"750\"\n",
       "            src=\"./info/CHEMBL236_Ki.html\"\n",
       "            frameborder=\"0\"\n",
       "            allowfullscreen\n",
       "            \n",
       "        ></iframe>\n",
       "        "
      ],
      "text/plain": [
       "<IPython.lib.display.IFrame at 0x7f6c46ca04c0>"
      ]
     },
     "metadata": {},
     "output_type": "display_data"
    },
    {
     "data": {
      "text/html": [
       "<a href='./info/CHEMBL236_Ki.html' target='_blank'>./info/CHEMBL236_Ki.html</a><br>"
      ],
      "text/plain": [
       "/home/shenwanxiang/Research/MPCD/dataset/HSSMS/MoleculeACE_benchmark/space/info/CHEMBL236_Ki.html"
      ]
     },
     "metadata": {},
     "output_type": "display_data"
    },
    {
     "name": "stderr",
     "output_type": "stream",
     "text": [
      "100%|###########################################################################################################| 3097/3097 [00:00<00:00, 24530.64it/s]\n"
     ]
    },
    {
     "data": {
      "text/html": [
       "\n",
       "        <iframe\n",
       "            width=\"100%\"\n",
       "            height=\"750\"\n",
       "            src=\"./info/CHEMBL244_Ki.html\"\n",
       "            frameborder=\"0\"\n",
       "            allowfullscreen\n",
       "            \n",
       "        ></iframe>\n",
       "        "
      ],
      "text/plain": [
       "<IPython.lib.display.IFrame at 0x7f6c3c6a0790>"
      ]
     },
     "metadata": {},
     "output_type": "display_data"
    },
    {
     "data": {
      "text/html": [
       "<a href='./info/CHEMBL244_Ki.html' target='_blank'>./info/CHEMBL244_Ki.html</a><br>"
      ],
      "text/plain": [
       "/home/shenwanxiang/Research/MPCD/dataset/HSSMS/MoleculeACE_benchmark/space/info/CHEMBL244_Ki.html"
      ]
     },
     "metadata": {},
     "output_type": "display_data"
    },
    {
     "name": "stderr",
     "output_type": "stream",
     "text": [
      "100%|###########################################################################################################| 2603/2603 [00:00<00:00, 24141.39it/s]\n"
     ]
    },
    {
     "data": {
      "text/html": [
       "\n",
       "        <iframe\n",
       "            width=\"100%\"\n",
       "            height=\"750\"\n",
       "            src=\"./info/CHEMBL237_Ki.html\"\n",
       "            frameborder=\"0\"\n",
       "            allowfullscreen\n",
       "            \n",
       "        ></iframe>\n",
       "        "
      ],
      "text/plain": [
       "<IPython.lib.display.IFrame at 0x7f6c4700aa90>"
      ]
     },
     "metadata": {},
     "output_type": "display_data"
    },
    {
     "data": {
      "text/html": [
       "<a href='./info/CHEMBL237_Ki.html' target='_blank'>./info/CHEMBL237_Ki.html</a><br>"
      ],
      "text/plain": [
       "/home/shenwanxiang/Research/MPCD/dataset/HSSMS/MoleculeACE_benchmark/space/info/CHEMBL237_Ki.html"
      ]
     },
     "metadata": {},
     "output_type": "display_data"
    },
    {
     "name": "stderr",
     "output_type": "stream",
     "text": [
      "100%|#############################################################################################################| 682/682 [00:00<00:00, 20946.03it/s]\n"
     ]
    },
    {
     "data": {
      "text/html": [
       "\n",
       "        <iframe\n",
       "            width=\"100%\"\n",
       "            height=\"750\"\n",
       "            src=\"./info/CHEMBL4616_EC50.html\"\n",
       "            frameborder=\"0\"\n",
       "            allowfullscreen\n",
       "            \n",
       "        ></iframe>\n",
       "        "
      ],
      "text/plain": [
       "<IPython.lib.display.IFrame at 0x7f6c463442e0>"
      ]
     },
     "metadata": {},
     "output_type": "display_data"
    },
    {
     "data": {
      "text/html": [
       "<a href='./info/CHEMBL4616_EC50.html' target='_blank'>./info/CHEMBL4616_EC50.html</a><br>"
      ],
      "text/plain": [
       "/home/shenwanxiang/Research/MPCD/dataset/HSSMS/MoleculeACE_benchmark/space/info/CHEMBL4616_EC50.html"
      ]
     },
     "metadata": {},
     "output_type": "display_data"
    },
    {
     "name": "stderr",
     "output_type": "stream",
     "text": [
      "100%|#############################################################################################################| 794/794 [00:00<00:00, 33599.80it/s]\n"
     ]
    },
    {
     "data": {
      "text/html": [
       "\n",
       "        <iframe\n",
       "            width=\"100%\"\n",
       "            height=\"750\"\n",
       "            src=\"./info/CHEMBL1862_Ki.html\"\n",
       "            frameborder=\"0\"\n",
       "            allowfullscreen\n",
       "            \n",
       "        ></iframe>\n",
       "        "
      ],
      "text/plain": [
       "<IPython.lib.display.IFrame at 0x7f6c4410c1f0>"
      ]
     },
     "metadata": {},
     "output_type": "display_data"
    },
    {
     "data": {
      "text/html": [
       "<a href='./info/CHEMBL1862_Ki.html' target='_blank'>./info/CHEMBL1862_Ki.html</a><br>"
      ],
      "text/plain": [
       "/home/shenwanxiang/Research/MPCD/dataset/HSSMS/MoleculeACE_benchmark/space/info/CHEMBL1862_Ki.html"
      ]
     },
     "metadata": {},
     "output_type": "display_data"
    },
    {
     "name": "stderr",
     "output_type": "stream",
     "text": [
      "100%|#############################################################################################################| 615/615 [00:00<00:00, 22082.65it/s]\n"
     ]
    },
    {
     "data": {
      "text/html": [
       "\n",
       "        <iframe\n",
       "            width=\"100%\"\n",
       "            height=\"750\"\n",
       "            src=\"./info/CHEMBL2835_Ki.html\"\n",
       "            frameborder=\"0\"\n",
       "            allowfullscreen\n",
       "            \n",
       "        ></iframe>\n",
       "        "
      ],
      "text/plain": [
       "<IPython.lib.display.IFrame at 0x7f6c46cbed60>"
      ]
     },
     "metadata": {},
     "output_type": "display_data"
    },
    {
     "data": {
      "text/html": [
       "<a href='./info/CHEMBL2835_Ki.html' target='_blank'>./info/CHEMBL2835_Ki.html</a><br>"
      ],
      "text/plain": [
       "/home/shenwanxiang/Research/MPCD/dataset/HSSMS/MoleculeACE_benchmark/space/info/CHEMBL2835_Ki.html"
      ]
     },
     "metadata": {},
     "output_type": "display_data"
    }
   ],
   "source": [
    "csvs = glob('../*.csv')\n",
    "dim = 2048\n",
    "data_save_folder = './info'\n",
    "\n",
    "for csv in csvs:\n",
    "    df = pd.read_csv(csv)\n",
    "\n",
    "\n",
    "    df.index = df.index.astype(str)\n",
    "    task_name = os.path.basename(csv).replace('.csv', '')\n",
    "    smiles_list = df['smiles'].to_list()\n",
    "\n",
    "\n",
    "\n",
    "    def rtuple(x):\n",
    "        d = pd.Series(x).reset_index().set_index(0)['index'].to_dict()\n",
    "        return [(k, v) for k, v in d.items()]\n",
    "\n",
    "    md1 = {'Yes':1, 'No':0}\n",
    "    md2 = {'train':1, 'test':0}\n",
    "    pair_key1 = rtuple(md1)\n",
    "    pair_key2 = rtuple(md2)\n",
    "\n",
    "    df['subgroup1'] = df.cliff_mol\n",
    "    df['subgroup2'] = df.split.map(md2)\n",
    "\n",
    "\n",
    "    mols = [Chem.MolFromSmiles(s) for s in smiles_list]\n",
    "    ECFP4_fps = [AllChem.GetMorganFingerprintAsBitVect(x,2,dim) for x in tqdm(mols, ascii=True)]\n",
    "    ecfps = [tmap.VectorUchar(list(fp)) for fp in ECFP4_fps]\n",
    "    enc = tmap.Minhash(dim,seed = 42)\n",
    "    lf = tmap.LSHForest(dim)\n",
    "    lf.batch_add(enc.batch_from_binary_array(ecfps))\n",
    "    lf.index()\n",
    "\n",
    "    cfg = tmap.LayoutConfiguration()\n",
    "    cfg.k = 50\n",
    "    cfg.kc = 50\n",
    "    cfg.sl_scaling_min = 1.0\n",
    "    cfg.sl_scaling_max = 1.0\n",
    "    cfg.sl_repeats = 1\n",
    "    cfg.sl_extra_scaling_steps = 2\n",
    "    cfg.placer = tmap.Placer.Barycenter\n",
    "    cfg.merger = tmap.Merger.LocalBiconnected\n",
    "    cfg.merger_factor = 2.0\n",
    "    cfg.merger_adjustment = 0\n",
    "    cfg.fme_iterations = 800\n",
    "    cfg.sl_scaling_type = tmap.ScalingType.RelativeToDesiredLength\n",
    "    cfg.node_size = 1 / 2\n",
    "    cfg.mmm_repeats = 1\n",
    "    x, y, s, t, gp = tmap.layout_from_lsh_forest(lf, config = cfg)\n",
    "\n",
    "    #======================================================\n",
    "\n",
    "    c1 = df['y'].round(3)\n",
    "    c2 = df['subgroup1']\n",
    "    c3 = df['subgroup2']\n",
    "\n",
    "    c = [c1, c2, c3] #具体的属性数据\n",
    "\n",
    "    series_title = ['pActivity',  'cliff_mol',  'split'] ##具体的属性数据名称\n",
    "\n",
    "\n",
    "    categorical = [False, True, True]\n",
    "\n",
    "    cmap = ['jet_r', 'tab10', 'Set1']\n",
    "\n",
    "    min_legend_label= [str(c1.min()), None,  None]\n",
    "    max_legend_label= [str(c1.max()), None, None]\n",
    "\n",
    "    labels = (df['smiles'] + \"__\" + df.index + \"__\" \n",
    "              + task_name + ': ' + df['exp_mean [nM]'].astype(str) + ' nM').tolist() #显示smiles， 以及图片中的标签\n",
    "\n",
    "    point_scale = 10\n",
    "\n",
    "    legend_labels = [None, pair_key1, pair_key2]\n",
    "    #========================================================\n",
    "\n",
    "\n",
    "    faerun = Faerun(view=\"front\", clear_color='#111111',coords=False) #'#ffffff'\n",
    "    faerun.add_scatter(task_name, { \"x\": x, \"y\": y, \n",
    "                                  \"c\": c, \"labels\": labels},\n",
    "                       legend_labels = legend_labels,\n",
    "                       categorical = categorical,\n",
    "                       max_legend_label = max_legend_label,\n",
    "                       min_legend_label = min_legend_label,\n",
    "                       point_scale=point_scale,\n",
    "                       colormap = cmap,\n",
    "                       has_legend=True,\n",
    "                       series_title = series_title,\n",
    "                       shader = 'smoothCircle') #\"sphere\", #\n",
    "\n",
    "    faerun.add_tree(task_name + \"_tree\", {\"from\": s, \"to\": t}, point_helper=task_name,  color='#666666', ) #colors when no value\n",
    "\n",
    "    # Choose the \"smiles\" template to display structure on hover\n",
    "    faerun.plot(task_name, path = data_save_folder, template=\"smiles\", notebook_height=750)"
   ]
  },
  {
   "cell_type": "code",
   "execution_count": null,
   "id": "5c51cb42-52cf-496a-bbd2-26577073f654",
   "metadata": {},
   "outputs": [],
   "source": []
  },
  {
   "cell_type": "code",
   "execution_count": 5,
   "id": "d2b9856a-440e-42c9-a55b-809d0202409f",
   "metadata": {},
   "outputs": [
    {
     "data": {
      "text/html": [
       "<div>\n",
       "<style scoped>\n",
       "    .dataframe tbody tr th:only-of-type {\n",
       "        vertical-align: middle;\n",
       "    }\n",
       "\n",
       "    .dataframe tbody tr th {\n",
       "        vertical-align: top;\n",
       "    }\n",
       "\n",
       "    .dataframe thead th {\n",
       "        text-align: right;\n",
       "    }\n",
       "</style>\n",
       "<table border=\"1\" class=\"dataframe\">\n",
       "  <thead>\n",
       "    <tr style=\"text-align: right;\">\n",
       "      <th></th>\n",
       "      <th>smiles</th>\n",
       "      <th>exp_mean [nM]</th>\n",
       "      <th>y</th>\n",
       "      <th>cliff_mol</th>\n",
       "      <th>split</th>\n",
       "      <th>subgroup1</th>\n",
       "      <th>subgroup2</th>\n",
       "    </tr>\n",
       "  </thead>\n",
       "  <tbody>\n",
       "    <tr>\n",
       "      <th>0</th>\n",
       "      <td>C[C@@H]1CCN(C(=O)CC#N)C[C@@H]1N(C)c1ncnc2[nH]c...</td>\n",
       "      <td>0.70</td>\n",
       "      <td>0.154902</td>\n",
       "      <td>0</td>\n",
       "      <td>train</td>\n",
       "      <td>0</td>\n",
       "      <td>1</td>\n",
       "    </tr>\n",
       "    <tr>\n",
       "      <th>1</th>\n",
       "      <td>C[C@@H]1CCN(C(=O)CC#N)C[C@@H]1n1cnc2cnc3[nH]cc...</td>\n",
       "      <td>0.50</td>\n",
       "      <td>0.301030</td>\n",
       "      <td>0</td>\n",
       "      <td>test</td>\n",
       "      <td>0</td>\n",
       "      <td>0</td>\n",
       "    </tr>\n",
       "    <tr>\n",
       "      <th>2</th>\n",
       "      <td>C[C@@H]1CCN(Cc2ccccc2)C[C@@H]1N(C)c1ncnc2[nH]c...</td>\n",
       "      <td>610.00</td>\n",
       "      <td>-2.785330</td>\n",
       "      <td>0</td>\n",
       "      <td>test</td>\n",
       "      <td>0</td>\n",
       "      <td>0</td>\n",
       "    </tr>\n",
       "    <tr>\n",
       "      <th>3</th>\n",
       "      <td>C[C@@H]1CCN(Cc2ccccc2)C[C@@H]1n1cnc2cnc3[nH]cc...</td>\n",
       "      <td>12.00</td>\n",
       "      <td>-1.079181</td>\n",
       "      <td>0</td>\n",
       "      <td>train</td>\n",
       "      <td>0</td>\n",
       "      <td>1</td>\n",
       "    </tr>\n",
       "    <tr>\n",
       "      <th>4</th>\n",
       "      <td>N#CCC(=O)N1CCC[C@@H](n2cnc3cnc4[nH]ccc4c32)C1</td>\n",
       "      <td>0.40</td>\n",
       "      <td>0.397940</td>\n",
       "      <td>0</td>\n",
       "      <td>train</td>\n",
       "      <td>0</td>\n",
       "      <td>1</td>\n",
       "    </tr>\n",
       "    <tr>\n",
       "      <th>...</th>\n",
       "      <td>...</td>\n",
       "      <td>...</td>\n",
       "      <td>...</td>\n",
       "      <td>...</td>\n",
       "      <td>...</td>\n",
       "      <td>...</td>\n",
       "      <td>...</td>\n",
       "    </tr>\n",
       "    <tr>\n",
       "      <th>610</th>\n",
       "      <td>CC(C)(C#N)CNC1CCN(C(=O)Cn2cc(NC(=O)c3cnn4cccnc...</td>\n",
       "      <td>0.27</td>\n",
       "      <td>0.568636</td>\n",
       "      <td>0</td>\n",
       "      <td>train</td>\n",
       "      <td>0</td>\n",
       "      <td>1</td>\n",
       "    </tr>\n",
       "    <tr>\n",
       "      <th>611</th>\n",
       "      <td>CN(CC1(C#N)CC1)C1CCN(C(=O)Cn2cc(NC(=O)c3cnn4cc...</td>\n",
       "      <td>0.24</td>\n",
       "      <td>0.619789</td>\n",
       "      <td>0</td>\n",
       "      <td>train</td>\n",
       "      <td>0</td>\n",
       "      <td>1</td>\n",
       "    </tr>\n",
       "    <tr>\n",
       "      <th>612</th>\n",
       "      <td>N#CC1(CNC2CCN(C(=O)Cn3cc(NC(=O)c4cnn5cccnc45)c...</td>\n",
       "      <td>0.36</td>\n",
       "      <td>0.443697</td>\n",
       "      <td>0</td>\n",
       "      <td>test</td>\n",
       "      <td>0</td>\n",
       "      <td>0</td>\n",
       "    </tr>\n",
       "    <tr>\n",
       "      <th>613</th>\n",
       "      <td>Cc1cc(Nc2nccc3nc(-c4c(Cl)cc(C#N)cc4Cl)[nH]c23)...</td>\n",
       "      <td>24.00</td>\n",
       "      <td>-1.380211</td>\n",
       "      <td>0</td>\n",
       "      <td>train</td>\n",
       "      <td>0</td>\n",
       "      <td>1</td>\n",
       "    </tr>\n",
       "    <tr>\n",
       "      <th>614</th>\n",
       "      <td>Cc1cnc(Nc2ccc(OCCN3CCCC3)cc2)nc1Nc1cccc(S(=O)(...</td>\n",
       "      <td>105.00</td>\n",
       "      <td>-2.021189</td>\n",
       "      <td>0</td>\n",
       "      <td>test</td>\n",
       "      <td>0</td>\n",
       "      <td>0</td>\n",
       "    </tr>\n",
       "  </tbody>\n",
       "</table>\n",
       "<p>615 rows × 7 columns</p>\n",
       "</div>"
      ],
      "text/plain": [
       "                                                smiles  exp_mean [nM]  \\\n",
       "0    C[C@@H]1CCN(C(=O)CC#N)C[C@@H]1N(C)c1ncnc2[nH]c...           0.70   \n",
       "1    C[C@@H]1CCN(C(=O)CC#N)C[C@@H]1n1cnc2cnc3[nH]cc...           0.50   \n",
       "2    C[C@@H]1CCN(Cc2ccccc2)C[C@@H]1N(C)c1ncnc2[nH]c...         610.00   \n",
       "3    C[C@@H]1CCN(Cc2ccccc2)C[C@@H]1n1cnc2cnc3[nH]cc...          12.00   \n",
       "4        N#CCC(=O)N1CCC[C@@H](n2cnc3cnc4[nH]ccc4c32)C1           0.40   \n",
       "..                                                 ...            ...   \n",
       "610  CC(C)(C#N)CNC1CCN(C(=O)Cn2cc(NC(=O)c3cnn4cccnc...           0.27   \n",
       "611  CN(CC1(C#N)CC1)C1CCN(C(=O)Cn2cc(NC(=O)c3cnn4cc...           0.24   \n",
       "612  N#CC1(CNC2CCN(C(=O)Cn3cc(NC(=O)c4cnn5cccnc45)c...           0.36   \n",
       "613  Cc1cc(Nc2nccc3nc(-c4c(Cl)cc(C#N)cc4Cl)[nH]c23)...          24.00   \n",
       "614  Cc1cnc(Nc2ccc(OCCN3CCCC3)cc2)nc1Nc1cccc(S(=O)(...         105.00   \n",
       "\n",
       "            y  cliff_mol  split  subgroup1  subgroup2  \n",
       "0    0.154902          0  train          0          1  \n",
       "1    0.301030          0   test          0          0  \n",
       "2   -2.785330          0   test          0          0  \n",
       "3   -1.079181          0  train          0          1  \n",
       "4    0.397940          0  train          0          1  \n",
       "..        ...        ...    ...        ...        ...  \n",
       "610  0.568636          0  train          0          1  \n",
       "611  0.619789          0  train          0          1  \n",
       "612  0.443697          0   test          0          0  \n",
       "613 -1.380211          0  train          0          1  \n",
       "614 -2.021189          0   test          0          0  \n",
       "\n",
       "[615 rows x 7 columns]"
      ]
     },
     "execution_count": 5,
     "metadata": {},
     "output_type": "execute_result"
    }
   ],
   "source": [
    "df"
   ]
  },
  {
   "cell_type": "code",
   "execution_count": null,
   "id": "605c1db3-8ff4-4596-a318-cddde9237611",
   "metadata": {},
   "outputs": [],
   "source": []
  }
 ],
 "metadata": {
  "kernelspec": {
   "display_name": "Python 3 (ipykernel)",
   "language": "python",
   "name": "python3"
  },
  "language_info": {
   "codemirror_mode": {
    "name": "ipython",
    "version": 3
   },
   "file_extension": ".py",
   "mimetype": "text/x-python",
   "name": "python",
   "nbconvert_exporter": "python",
   "pygments_lexer": "ipython3",
   "version": "3.9.7"
  }
 },
 "nbformat": 4,
 "nbformat_minor": 5
}
