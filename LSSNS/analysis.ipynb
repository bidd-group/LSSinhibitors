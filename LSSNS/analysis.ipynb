{
 "cells": [
  {
   "cell_type": "code",
   "execution_count": 1,
   "id": "42964008-4130-4c0f-9544-55f04ff5f9f2",
   "metadata": {},
   "outputs": [],
   "source": [
    "import pandas as pd\n",
    "from rdkit.Chem import AllChem\n",
    "from rdkit import Chem\n",
    "from rdkit.Chem.Scaffolds import MurckoScaffold, rdScaffoldNetwork\n",
    "from rdkit.Chem import rdFMCS \n",
    "from rdkit import DataStructs, Chem\n",
    "from scipy.spatial.distance import squareform, cdist, pdist\n",
    "from scipy.cluster.hierarchy import fcluster, linkage, dendrogram\n",
    "import matplotlib.pylab as plt\n",
    "import numpy as np\n",
    "import pandas as pd\n",
    "from rdkit.Chem.Scaffolds.MurckoScaffold import MurckoScaffoldSmilesFromSmiles\n",
    "import tmap\n",
    "from faerun import Faerun\n",
    "from tqdm import tqdm\n",
    "from glob import glob\n",
    "import os"
   ]
  },
  {
   "cell_type": "code",
   "execution_count": 2,
   "id": "188a9267-1672-4b69-8811-7b17cf0955d6",
   "metadata": {},
   "outputs": [],
   "source": [
    "\n",
    "def _calc_ecfp4(smiles):\n",
    "    ecfp4 = AllChem.GetMorganFingerprint(Chem.MolFromSmiles(smiles), radius = 2)    \n",
    "    return ecfp4\n",
    "\n",
    "def pairwise_dist_tanimoto(smiles_list):    \n",
    "    MorganFP_list = [_calc_ecfp4(i) for i in smiles_list]\n",
    "    TanimotoDist =[]   \n",
    "    for i, fp1 in enumerate(MorganFP_list):\n",
    "        for fp2 in MorganFP_list[i+1:]:\n",
    "            s = DataStructs.TanimotoSimilarity(fp1,fp2)\n",
    "            #Available similarity metrics include Tanimoto, Dice, \n",
    "            # Cosine, Sokal, Russel, Kulczynski, McConnaughey, and Tversky\n",
    "            d = 1. - s #distance\n",
    "            TanimotoDist.append(d)\n",
    "    dist_matrix = squareform(TanimotoDist)\n",
    "\n",
    "    return dist_matrix\n",
    "\n",
    "def get_core_fw(smi):\n",
    "    mol = Chem.MolFromSmiles(smi)\n",
    "    core = MurckoScaffold.GetScaffoldForMol(mol)\n",
    "    fw = MurckoScaffold.MakeScaffoldGeneric(core)\n",
    "    return Chem.MolToSmiles(core), Chem.MolToSmiles(fw)\n",
    "\n",
    "def get_mcs(mols):\n",
    "    scd = rdFMCS.FindMCS(mols, completeRingsOnly=True,)\n",
    "    sc = Chem.MolFromSmarts(scd.smartsString)\n",
    "    ##get matched\n",
    "    # mol = mols[0]\n",
    "    # match_aidx = mol.GetSubstructMatches(sc)\n",
    "    # frag = AllChem.MolFragmentToSmarts(mol, match_aidx[0])\n",
    "    return sc\n",
    "\n",
    "def plot_tmap(df, task_name, save_dir):\n",
    "    \n",
    "    smiles_list = df.Smiles.to_list()\n",
    "\n",
    "    dim = 2048\n",
    "    data_save_folder = save_dir\n",
    "    task_name = task_name\n",
    "\n",
    "    mols = [Chem.MolFromSmiles(s) for s in smiles_list]\n",
    "    ECFP4_fps = [AllChem.GetMorganFingerprintAsBitVect(x,2,dim) for x in tqdm(mols, ascii=True)]\n",
    "    ecfps = [tmap.VectorUchar(list(fp)) for fp in ECFP4_fps]\n",
    "    enc = tmap.Minhash(dim,seed = 42)\n",
    "    lf = tmap.LSHForest(dim)\n",
    "    lf.batch_add(enc.batch_from_binary_array(ecfps))\n",
    "    lf.index()\n",
    "\n",
    "    cfg = tmap.LayoutConfiguration()\n",
    "    cfg.k = 50\n",
    "    cfg.kc = 50\n",
    "    cfg.sl_scaling_min = 1.0\n",
    "    cfg.sl_scaling_max = 1.0\n",
    "    cfg.sl_repeats = 1\n",
    "    cfg.sl_extra_scaling_steps = 2\n",
    "    cfg.placer = tmap.Placer.Barycenter\n",
    "    cfg.merger = tmap.Merger.LocalBiconnected\n",
    "    cfg.merger_factor = 2.0\n",
    "    cfg.merger_adjustment = 0\n",
    "    cfg.fme_iterations = 2000\n",
    "    cfg.sl_scaling_type = tmap.ScalingType.RelativeToDesiredLength\n",
    "    cfg.node_size = 1 / 2\n",
    "    cfg.mmm_repeats = 1\n",
    "    x, y, s, t, gp = tmap.layout_from_lsh_forest(lf, config = cfg)\n",
    "\n",
    "    #======================================================\n",
    "    c1 = df['pChEMBL Value'].round(3)\n",
    "    c = [c1] #具体的属性数据\n",
    "    series_title = ['pChEMBL Value'] ##具体的属性数据名称\n",
    "    categorical = [False]\n",
    "    cmap = ['jet']\n",
    "    min_legend_label= [str(c1.min())]\n",
    "    max_legend_label= [str(c1.max())]\n",
    "\n",
    "    labels = (df.Smiles + \"__\" + df.index + \"__\" \n",
    "              + (df['Standard Value'].astype(str) + ' nM')).tolist() #显示smiles， 以及图片中的标签\n",
    "\n",
    "    point_scale = 13\n",
    "    legend_labels = [None]\n",
    "    #========================================================\n",
    "\n",
    "\n",
    "    faerun = Faerun(view=\"front\", clear_color='#111111',coords=False) #'#ffffff'\n",
    "    faerun.add_scatter(task_name, { \"x\": x, \"y\": y, \n",
    "                                  \"c\": c, \"labels\": labels},\n",
    "                       legend_labels = legend_labels,\n",
    "                       max_legend_label = max_legend_label,\n",
    "                       min_legend_label = min_legend_label,\n",
    "                       point_scale=point_scale,\n",
    "                       colormap = cmap,\n",
    "                       has_legend=True,\n",
    "                       categorical = categorical,\n",
    "                       series_title = series_title,\n",
    "                       shader = 'smoothCircle') #\"sphere\", #\n",
    "\n",
    "\n",
    "    faerun.add_tree(task_name + \"_tree\", {\"from\": s, \"to\": t}, point_helper=task_name,  color='#666666', ) #colors when no value\n",
    "\n",
    "    # Choose the \"smiles\" template to display structure on hover\n",
    "    faerun.plot(task_name, path = data_save_folder, template=\"smiles\", notebook_height=750)"
   ]
  },
  {
   "cell_type": "code",
   "execution_count": 3,
   "id": "c2588a54-0ac2-4cf5-baa0-c14622d7b67c",
   "metadata": {},
   "outputs": [],
   "source": [
    "csvs = glob('./*.csv')\n",
    "target_type_dict = {'mGluR2': 'GPCR', \n",
    "'USP7':  'Protease',\n",
    "'RIP2':  'Kinase',\n",
    "'PKCi':  'Kinase',\n",
    "'PHGDH':  'Other Enzyme',\n",
    "'RORg':  'Nuclear Receptor',\n",
    "'IDO1':  'Other Enzyme',\n",
    "'KLK5':  'Protease',\n",
    "'Notum':  'Other Enzyme',\n",
    "'EAAT3':  'Transporter',\n",
    "'PLK1':  'Kinase',\n",
    "'RXFP1':  'GPCR',\n",
    "'UR2':  'GPCR',\n",
    "'BRAF':  'Kinase'}"
   ]
  },
  {
   "cell_type": "code",
   "execution_count": 4,
   "id": "78b07443-0b30-44a3-bd46-d3322d98388c",
   "metadata": {
    "collapsed": true,
    "jupyter": {
     "outputs_hidden": true
    },
    "tags": []
   },
   "outputs": [
    {
     "name": "stdout",
     "output_type": "stream",
     "text": [
      "UR2\n"
     ]
    },
    {
     "name": "stderr",
     "output_type": "stream",
     "text": [
      "100%|################################################################################| 60/60 [00:00<00:00, 43774.26it/s]\n"
     ]
    },
    {
     "data": {
      "text/html": [
       "\n",
       "        <iframe\n",
       "            width=\"100%\"\n",
       "            height=\"750\"\n",
       "            src=\"./info/ur2.html\"\n",
       "            frameborder=\"0\"\n",
       "            allowfullscreen\n",
       "            \n",
       "        ></iframe>\n",
       "        "
      ],
      "text/plain": [
       "<IPython.lib.display.IFrame at 0x7fa5243eb610>"
      ]
     },
     "metadata": {},
     "output_type": "display_data"
    },
    {
     "data": {
      "text/html": [
       "<a href='./info/ur2.html' target='_blank'>./info/ur2.html</a><br>"
      ],
      "text/plain": [
       "/home/shenwanxiang/Research/LSSinhibitors/LSSNS/info/ur2.html"
      ]
     },
     "metadata": {},
     "output_type": "display_data"
    },
    {
     "name": "stdout",
     "output_type": "stream",
     "text": [
      "PLK1\n"
     ]
    },
    {
     "name": "stderr",
     "output_type": "stream",
     "text": [
      "100%|################################################################################| 73/73 [00:00<00:00, 30091.81it/s]\n"
     ]
    },
    {
     "data": {
      "text/html": [
       "\n",
       "        <iframe\n",
       "            width=\"100%\"\n",
       "            height=\"750\"\n",
       "            src=\"./info/plk1.html\"\n",
       "            frameborder=\"0\"\n",
       "            allowfullscreen\n",
       "            \n",
       "        ></iframe>\n",
       "        "
      ],
      "text/plain": [
       "<IPython.lib.display.IFrame at 0x7fa525d8a400>"
      ]
     },
     "metadata": {},
     "output_type": "display_data"
    },
    {
     "data": {
      "text/html": [
       "<a href='./info/plk1.html' target='_blank'>./info/plk1.html</a><br>"
      ],
      "text/plain": [
       "/home/shenwanxiang/Research/LSSinhibitors/LSSNS/info/plk1.html"
      ]
     },
     "metadata": {},
     "output_type": "display_data"
    },
    {
     "name": "stdout",
     "output_type": "stream",
     "text": [
      "RIP2\n"
     ]
    },
    {
     "name": "stderr",
     "output_type": "stream",
     "text": [
      "100%|################################################################################| 46/46 [00:00<00:00, 46784.19it/s]\n"
     ]
    },
    {
     "data": {
      "text/html": [
       "\n",
       "        <iframe\n",
       "            width=\"100%\"\n",
       "            height=\"750\"\n",
       "            src=\"./info/rip2.html\"\n",
       "            frameborder=\"0\"\n",
       "            allowfullscreen\n",
       "            \n",
       "        ></iframe>\n",
       "        "
      ],
      "text/plain": [
       "<IPython.lib.display.IFrame at 0x7fa525d84730>"
      ]
     },
     "metadata": {},
     "output_type": "display_data"
    },
    {
     "data": {
      "text/html": [
       "<a href='./info/rip2.html' target='_blank'>./info/rip2.html</a><br>"
      ],
      "text/plain": [
       "/home/shenwanxiang/Research/LSSinhibitors/LSSNS/info/rip2.html"
      ]
     },
     "metadata": {},
     "output_type": "display_data"
    },
    {
     "name": "stdout",
     "output_type": "stream",
     "text": [
      "RORg\n"
     ]
    },
    {
     "name": "stderr",
     "output_type": "stream",
     "text": [
      "100%|################################################################################| 68/68 [00:00<00:00, 27003.66it/s]\n"
     ]
    },
    {
     "data": {
      "text/html": [
       "\n",
       "        <iframe\n",
       "            width=\"100%\"\n",
       "            height=\"750\"\n",
       "            src=\"./info/rorg.html\"\n",
       "            frameborder=\"0\"\n",
       "            allowfullscreen\n",
       "            \n",
       "        ></iframe>\n",
       "        "
      ],
      "text/plain": [
       "<IPython.lib.display.IFrame at 0x7fa525d65100>"
      ]
     },
     "metadata": {},
     "output_type": "display_data"
    },
    {
     "data": {
      "text/html": [
       "<a href='./info/rorg.html' target='_blank'>./info/rorg.html</a><br>"
      ],
      "text/plain": [
       "/home/shenwanxiang/Research/LSSinhibitors/LSSNS/info/rorg.html"
      ]
     },
     "metadata": {},
     "output_type": "display_data"
    },
    {
     "name": "stdout",
     "output_type": "stream",
     "text": [
      "KLK5\n"
     ]
    },
    {
     "name": "stderr",
     "output_type": "stream",
     "text": [
      "100%|################################################################################| 65/65 [00:00<00:00, 50787.96it/s]\n"
     ]
    },
    {
     "data": {
      "text/html": [
       "\n",
       "        <iframe\n",
       "            width=\"100%\"\n",
       "            height=\"750\"\n",
       "            src=\"./info/klk5.html\"\n",
       "            frameborder=\"0\"\n",
       "            allowfullscreen\n",
       "            \n",
       "        ></iframe>\n",
       "        "
      ],
      "text/plain": [
       "<IPython.lib.display.IFrame at 0x7fa525dd1280>"
      ]
     },
     "metadata": {},
     "output_type": "display_data"
    },
    {
     "data": {
      "text/html": [
       "<a href='./info/klk5.html' target='_blank'>./info/klk5.html</a><br>"
      ],
      "text/plain": [
       "/home/shenwanxiang/Research/LSSinhibitors/LSSNS/info/klk5.html"
      ]
     },
     "metadata": {},
     "output_type": "display_data"
    },
    {
     "name": "stdout",
     "output_type": "stream",
     "text": [
      "BRAF\n"
     ]
    },
    {
     "name": "stderr",
     "output_type": "stream",
     "text": [
      "100%|##############################################################################| 128/128 [00:00<00:00, 44143.31it/s]\n"
     ]
    },
    {
     "data": {
      "text/html": [
       "\n",
       "        <iframe\n",
       "            width=\"100%\"\n",
       "            height=\"750\"\n",
       "            src=\"./info/braf.html\"\n",
       "            frameborder=\"0\"\n",
       "            allowfullscreen\n",
       "            \n",
       "        ></iframe>\n",
       "        "
      ],
      "text/plain": [
       "<IPython.lib.display.IFrame at 0x7fa525c81310>"
      ]
     },
     "metadata": {},
     "output_type": "display_data"
    },
    {
     "data": {
      "text/html": [
       "<a href='./info/braf.html' target='_blank'>./info/braf.html</a><br>"
      ],
      "text/plain": [
       "/home/shenwanxiang/Research/LSSinhibitors/LSSNS/info/braf.html"
      ]
     },
     "metadata": {},
     "output_type": "display_data"
    },
    {
     "name": "stdout",
     "output_type": "stream",
     "text": [
      "USP7\n"
     ]
    },
    {
     "name": "stderr",
     "output_type": "stream",
     "text": [
      "100%|################################################################################| 45/45 [00:00<00:00, 31963.37it/s]\n"
     ]
    },
    {
     "data": {
      "text/html": [
       "\n",
       "        <iframe\n",
       "            width=\"100%\"\n",
       "            height=\"750\"\n",
       "            src=\"./info/usp7.html\"\n",
       "            frameborder=\"0\"\n",
       "            allowfullscreen\n",
       "            \n",
       "        ></iframe>\n",
       "        "
      ],
      "text/plain": [
       "<IPython.lib.display.IFrame at 0x7fa524406f40>"
      ]
     },
     "metadata": {},
     "output_type": "display_data"
    },
    {
     "data": {
      "text/html": [
       "<a href='./info/usp7.html' target='_blank'>./info/usp7.html</a><br>"
      ],
      "text/plain": [
       "/home/shenwanxiang/Research/LSSinhibitors/LSSNS/info/usp7.html"
      ]
     },
     "metadata": {},
     "output_type": "display_data"
    },
    {
     "name": "stdout",
     "output_type": "stream",
     "text": [
      "PHGDH\n"
     ]
    },
    {
     "name": "stderr",
     "output_type": "stream",
     "text": [
      "100%|################################################################################| 51/51 [00:00<00:00, 45697.39it/s]\n"
     ]
    },
    {
     "data": {
      "text/html": [
       "\n",
       "        <iframe\n",
       "            width=\"100%\"\n",
       "            height=\"750\"\n",
       "            src=\"./info/phgdh.html\"\n",
       "            frameborder=\"0\"\n",
       "            allowfullscreen\n",
       "            \n",
       "        ></iframe>\n",
       "        "
      ],
      "text/plain": [
       "<IPython.lib.display.IFrame at 0x7fa525d68700>"
      ]
     },
     "metadata": {},
     "output_type": "display_data"
    },
    {
     "data": {
      "text/html": [
       "<a href='./info/phgdh.html' target='_blank'>./info/phgdh.html</a><br>"
      ],
      "text/plain": [
       "/home/shenwanxiang/Research/LSSinhibitors/LSSNS/info/phgdh.html"
      ]
     },
     "metadata": {},
     "output_type": "display_data"
    },
    {
     "name": "stdout",
     "output_type": "stream",
     "text": [
      "Notum\n"
     ]
    },
    {
     "name": "stderr",
     "output_type": "stream",
     "text": [
      "100%|##############################################################################| 128/128 [00:00<00:00, 68574.65it/s]\n"
     ]
    },
    {
     "data": {
      "text/html": [
       "\n",
       "        <iframe\n",
       "            width=\"100%\"\n",
       "            height=\"750\"\n",
       "            src=\"./info/notum.html\"\n",
       "            frameborder=\"0\"\n",
       "            allowfullscreen\n",
       "            \n",
       "        ></iframe>\n",
       "        "
      ],
      "text/plain": [
       "<IPython.lib.display.IFrame at 0x7fa5d43bda90>"
      ]
     },
     "metadata": {},
     "output_type": "display_data"
    },
    {
     "data": {
      "text/html": [
       "<a href='./info/notum.html' target='_blank'>./info/notum.html</a><br>"
      ],
      "text/plain": [
       "/home/shenwanxiang/Research/LSSinhibitors/LSSNS/info/notum.html"
      ]
     },
     "metadata": {},
     "output_type": "display_data"
    },
    {
     "name": "stdout",
     "output_type": "stream",
     "text": [
      "RXFP1\n"
     ]
    },
    {
     "name": "stderr",
     "output_type": "stream",
     "text": [
      "100%|##############################################################################| 117/117 [00:00<00:00, 40356.38it/s]\n"
     ]
    },
    {
     "data": {
      "text/html": [
       "\n",
       "        <iframe\n",
       "            width=\"100%\"\n",
       "            height=\"750\"\n",
       "            src=\"./info/rxfp1.html\"\n",
       "            frameborder=\"0\"\n",
       "            allowfullscreen\n",
       "            \n",
       "        ></iframe>\n",
       "        "
      ],
      "text/plain": [
       "<IPython.lib.display.IFrame at 0x7fa525dab070>"
      ]
     },
     "metadata": {},
     "output_type": "display_data"
    },
    {
     "data": {
      "text/html": [
       "<a href='./info/rxfp1.html' target='_blank'>./info/rxfp1.html</a><br>"
      ],
      "text/plain": [
       "/home/shenwanxiang/Research/LSSinhibitors/LSSNS/info/rxfp1.html"
      ]
     },
     "metadata": {},
     "output_type": "display_data"
    },
    {
     "name": "stdout",
     "output_type": "stream",
     "text": [
      "mGluR2\n"
     ]
    },
    {
     "name": "stderr",
     "output_type": "stream",
     "text": [
      "100%|##############################################################################| 244/244 [00:00<00:00, 40315.55it/s]\n"
     ]
    },
    {
     "data": {
      "text/html": [
       "\n",
       "        <iframe\n",
       "            width=\"100%\"\n",
       "            height=\"750\"\n",
       "            src=\"./info/mglur2.html\"\n",
       "            frameborder=\"0\"\n",
       "            allowfullscreen\n",
       "            \n",
       "        ></iframe>\n",
       "        "
      ],
      "text/plain": [
       "<IPython.lib.display.IFrame at 0x7fa525d590a0>"
      ]
     },
     "metadata": {},
     "output_type": "display_data"
    },
    {
     "data": {
      "text/html": [
       "<a href='./info/mglur2.html' target='_blank'>./info/mglur2.html</a><br>"
      ],
      "text/plain": [
       "/home/shenwanxiang/Research/LSSinhibitors/LSSNS/info/mglur2.html"
      ]
     },
     "metadata": {},
     "output_type": "display_data"
    },
    {
     "name": "stdout",
     "output_type": "stream",
     "text": [
      "PKCi\n"
     ]
    },
    {
     "name": "stderr",
     "output_type": "stream",
     "text": [
      "100%|################################################################################| 48/48 [00:00<00:00, 57736.33it/s]\n"
     ]
    },
    {
     "data": {
      "text/html": [
       "\n",
       "        <iframe\n",
       "            width=\"100%\"\n",
       "            height=\"750\"\n",
       "            src=\"./info/pkci.html\"\n",
       "            frameborder=\"0\"\n",
       "            allowfullscreen\n",
       "            \n",
       "        ></iframe>\n",
       "        "
      ],
      "text/plain": [
       "<IPython.lib.display.IFrame at 0x7fa525c8f7f0>"
      ]
     },
     "metadata": {},
     "output_type": "display_data"
    },
    {
     "data": {
      "text/html": [
       "<a href='./info/pkci.html' target='_blank'>./info/pkci.html</a><br>"
      ],
      "text/plain": [
       "/home/shenwanxiang/Research/LSSinhibitors/LSSNS/info/pkci.html"
      ]
     },
     "metadata": {},
     "output_type": "display_data"
    },
    {
     "name": "stdout",
     "output_type": "stream",
     "text": [
      "EAAT3\n"
     ]
    },
    {
     "name": "stderr",
     "output_type": "stream",
     "text": [
      "100%|################################################################################| 59/59 [00:00<00:00, 60357.06it/s]\n"
     ]
    },
    {
     "data": {
      "text/html": [
       "\n",
       "        <iframe\n",
       "            width=\"100%\"\n",
       "            height=\"750\"\n",
       "            src=\"./info/eaat3.html\"\n",
       "            frameborder=\"0\"\n",
       "            allowfullscreen\n",
       "            \n",
       "        ></iframe>\n",
       "        "
      ],
      "text/plain": [
       "<IPython.lib.display.IFrame at 0x7fa525d50ac0>"
      ]
     },
     "metadata": {},
     "output_type": "display_data"
    },
    {
     "data": {
      "text/html": [
       "<a href='./info/eaat3.html' target='_blank'>./info/eaat3.html</a><br>"
      ],
      "text/plain": [
       "/home/shenwanxiang/Research/LSSinhibitors/LSSNS/info/eaat3.html"
      ]
     },
     "metadata": {},
     "output_type": "display_data"
    },
    {
     "name": "stdout",
     "output_type": "stream",
     "text": [
      "IDO1\n"
     ]
    },
    {
     "name": "stderr",
     "output_type": "stream",
     "text": [
      "100%|################################################################################| 78/78 [00:00<00:00, 58577.57it/s]\n"
     ]
    },
    {
     "data": {
      "text/html": [
       "\n",
       "        <iframe\n",
       "            width=\"100%\"\n",
       "            height=\"750\"\n",
       "            src=\"./info/ido1.html\"\n",
       "            frameborder=\"0\"\n",
       "            allowfullscreen\n",
       "            \n",
       "        ></iframe>\n",
       "        "
      ],
      "text/plain": [
       "<IPython.lib.display.IFrame at 0x7fa526ba3820>"
      ]
     },
     "metadata": {},
     "output_type": "display_data"
    },
    {
     "data": {
      "text/html": [
       "<a href='./info/ido1.html' target='_blank'>./info/ido1.html</a><br>"
      ],
      "text/plain": [
       "/home/shenwanxiang/Research/LSSinhibitors/LSSNS/info/ido1.html"
      ]
     },
     "metadata": {},
     "output_type": "display_data"
    }
   ],
   "source": [
    "save_dir = './info'\n",
    "names = {}\n",
    "infos = []\n",
    "for csv in csvs:\n",
    "    df = pd.read_csv(csv, index_col=0)\n",
    "    \n",
    "    csv_name = os.path.basename(csv).replace('.csv', '')\n",
    "    print(csv_name)\n",
    "    \n",
    "    name = csv_name.lower()\n",
    "    display_name = csv_name\n",
    "    url_name = os.path.basename(csv)\n",
    "    col_list = df.columns.tolist()\n",
    "    smiles_idx = col_list.index('Smiles')\n",
    "    y_idx = col_list.index('Standard Value')\n",
    "    \n",
    "    # Format: name: [display_name, url_name, csv_name, smiles_idx, y_idx]\n",
    "    res = {name: [display_name, url_name, csv_name, smiles_idx, y_idx]}\n",
    "    names.update(res)\n",
    "    #print(name, len(df), len(df1))\n",
    "    #print(res)\n",
    "    \n",
    "    #dfs = df.Smiles.apply(get_core_fw).apply(pd.Series)\n",
    "    #scaffolds = df.Smiles.apply(MurckoScaffoldSmilesFromSmiles).value_counts()\n",
    "\n",
    "    dataset = name\n",
    "    target = df['Target Name'].unique().tolist()[0]\n",
    "    target_type = target_type_dict[csv_name]\n",
    "    inhibitors = len(df)\n",
    "    reference = '; '.join(df['Document ChEMBL ID'].unique().tolist())\n",
    "\n",
    "    info = {'dataset': dataset, 'target':target, \n",
    "            'target_type':target_type, 'size':inhibitors,\n",
    "            'reference':reference}\n",
    "    infos.append(info)\n",
    "    \n",
    "    if not os.path.exists(save_dir):\n",
    "        os.makedirs(save_dir)\n",
    "        \n",
    "    plot_tmap(df, name, save_dir)\n",
    "    \n",
    "pd.DataFrame(names).to_json(os.path.join(save_dir, 'names.json'))\n",
    "pd.DataFrame(infos).to_json(os.path.join(save_dir, 'infos.json'))"
   ]
  },
  {
   "cell_type": "code",
   "execution_count": null,
   "id": "ba38f7cf-e523-4433-8d2d-ee1374374e11",
   "metadata": {},
   "outputs": [],
   "source": []
  },
  {
   "cell_type": "code",
   "execution_count": null,
   "id": "8ad1c334-5e7a-4048-8b9d-0be103abacea",
   "metadata": {},
   "outputs": [],
   "source": []
  },
  {
   "cell_type": "code",
   "execution_count": 5,
   "id": "daf4b11f-c4da-4f5c-b42b-2419fc4a51e3",
   "metadata": {},
   "outputs": [
    {
     "data": {
      "text/plain": [
       "'|    | dataset   | target                                      | target_type      |   size | reference                                                  |\\n|---:|:----------|:--------------------------------------------|:-----------------|-------:|:-----------------------------------------------------------|\\n|  0 | ur2       | Urotensin II receptor                       | GPCR             |     60 | CHEMBL1146083                                              |\\n|  1 | plk1      | Serine/threonine-protein kinase PLK1        | Kinase           |     73 | CHEMBL4406868; CHEMBL4138231                               |\\n|  2 | rip2      | Serine/threonine-protein kinase RIPK2       | Kinase           |     46 | CHEMBL4266012; CHEMBL4130524                               |\\n|  3 | rorg      | Nuclear receptor ROR-gamma                  | Nuclear Receptor |     68 | CHEMBL4619752                                              |\\n|  4 | klk5      | Kallikrein 5                                | Protease         |     65 | CHEMBL4387717; CHEMBL4422656; CHEMBL4396973                |\\n|  5 | braf      | Serine/threonine-protein kinase B-raf       | Kinase           |    128 | CHEMBL3638563                                              |\\n|  6 | usp7      | Ubiquitin carboxyl-terminal hydrolase 7     | Protease         |     45 | CHEMBL4251701                                              |\\n|  7 | phgdh     | D-3-phosphoglycerate dehydrogenase          | Other Enzyme     |     51 | CHEMBL4373702                                              |\\n|  8 | notum     | Palmitoleoyl-protein carboxylesterase NOTUM | Other Enzyme     |    128 | CHEMBL4619806; CHEMBL4334426                               |\\n|  9 | rxfp1     | Relaxin receptor 1                          | GPCR             |    117 | CHEMBL3714716                                              |\\n| 10 | mglur2    | Metabotropic glutamate receptor 2           | GPCR             |    244 | CHEMBL3886984                                              |\\n| 11 | pkci      | Protein kinase C iota                       | Kinase           |     48 | CHEMBL4184321                                              |\\n| 12 | eaat3     | Excitatory amino acid transporter 3         | Transporter      |     59 | CHEMBL4145652; CHEMBL3860066; CHEMBL4725471; CHEMBL1155081 |\\n| 13 | ido1      | Indoleamine 2,3-dioxygenase                 | Other Enzyme     |     78 | CHEMBL4364294                                              |'"
      ]
     },
     "execution_count": 5,
     "metadata": {},
     "output_type": "execute_result"
    }
   ],
   "source": [
    "pd.DataFrame(infos).to_markdown()"
   ]
  },
  {
   "cell_type": "code",
   "execution_count": 7,
   "id": "1f246450-4409-487f-8e6c-95e993a8a20b",
   "metadata": {},
   "outputs": [
    {
     "data": {
      "text/plain": [
       "{'ur2': ['UR2', 'UR2.csv', 'UR2', 6, 9],\n",
       " 'plk1': ['PLK1', 'PLK1.csv', 'PLK1', 6, 9],\n",
       " 'rip2': ['RIP2', 'RIP2.csv', 'RIP2', 6, 9],\n",
       " 'rorg': ['RORg', 'RORg.csv', 'RORg', 6, 9],\n",
       " 'klk5': ['KLK5', 'KLK5.csv', 'KLK5', 6, 9],\n",
       " 'braf': ['BRAF', 'BRAF.csv', 'BRAF', 6, 9],\n",
       " 'usp7': ['USP7', 'USP7.csv', 'USP7', 6, 9],\n",
       " 'phgdh': ['PHGDH', 'PHGDH.csv', 'PHGDH', 6, 9],\n",
       " 'notum': ['Notum', 'Notum.csv', 'Notum', 6, 9],\n",
       " 'rxfp1': ['RXFP1', 'RXFP1.csv', 'RXFP1', 6, 9],\n",
       " 'mglur2': ['mGluR2', 'mGluR2.csv', 'mGluR2', 6, 9],\n",
       " 'pkci': ['PKCi', 'PKCi.csv', 'PKCi', 2, 5],\n",
       " 'eaat3': ['EAAT3', 'EAAT3.csv', 'EAAT3', 6, 9],\n",
       " 'ido1': ['IDO1', 'IDO1.csv', 'IDO1', 6, 9]}"
      ]
     },
     "execution_count": 7,
     "metadata": {},
     "output_type": "execute_result"
    }
   ],
   "source": [
    "names"
   ]
  },
  {
   "cell_type": "code",
   "execution_count": null,
   "id": "84bb69aa-9526-41ee-958b-9c50ae2d33d9",
   "metadata": {},
   "outputs": [],
   "source": []
  },
  {
   "cell_type": "code",
   "execution_count": null,
   "id": "42a424ed-dab4-419f-9ba2-566dd13b2b8a",
   "metadata": {},
   "outputs": [],
   "source": []
  },
  {
   "cell_type": "code",
   "execution_count": null,
   "id": "8215c658-89bc-4e0a-93c9-8be8324614b5",
   "metadata": {},
   "outputs": [],
   "source": []
  },
  {
   "cell_type": "code",
   "execution_count": null,
   "id": "886dc12d-f468-443b-bcb9-42f2e9563907",
   "metadata": {},
   "outputs": [],
   "source": []
  }
 ],
 "metadata": {
  "kernelspec": {
   "display_name": "Python 3 (ipykernel)",
   "language": "python",
   "name": "python3"
  },
  "language_info": {
   "codemirror_mode": {
    "name": "ipython",
    "version": 3
   },
   "file_extension": ".py",
   "mimetype": "text/x-python",
   "name": "python",
   "nbconvert_exporter": "python",
   "pygments_lexer": "ipython3",
   "version": "3.9.7"
  }
 },
 "nbformat": 4,
 "nbformat_minor": 5
}
